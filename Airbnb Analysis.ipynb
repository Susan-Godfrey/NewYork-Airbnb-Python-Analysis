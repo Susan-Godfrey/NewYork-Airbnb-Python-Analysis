{
 "cells": [
  {
   "cell_type": "markdown",
   "metadata": {},
   "source": [
    "EDA, DATA CLEANING & TRANSFORMATION"
   ]
  },
  {
   "cell_type": "code",
   "execution_count": 1,
   "metadata": {},
   "outputs": [],
   "source": [
    "# Import Libraries\n",
    "import pandas as pd\n",
    "import numpy as np\n",
    "import matplotlib.pyplot as plt\n",
    "import seaborn as sns"
   ]
  },
  {
   "cell_type": "code",
   "execution_count": 2,
   "metadata": {},
   "outputs": [],
   "source": [
    "# Load in the dataset--New York Airbnb dataset\n",
    "NY_Airbnb = pd.read_csv(r\"C:\\Users\\HP\\OneDrive\\Documents\\TDI Python\\Capstone project\\new_york_listings_2024.csv\")"
   ]
  },
  {
   "cell_type": "code",
   "execution_count": 3,
   "metadata": {},
   "outputs": [
    {
     "name": "stdout",
     "output_type": "stream",
     "text": [
      "<class 'pandas.core.frame.DataFrame'>\n",
      "RangeIndex: 20758 entries, 0 to 20757\n",
      "Data columns (total 22 columns):\n",
      " #   Column                          Non-Null Count  Dtype  \n",
      "---  ------                          --------------  -----  \n",
      " 0   id                              20758 non-null  int64  \n",
      " 1   name                            20758 non-null  object \n",
      " 2   host_id                         20758 non-null  int64  \n",
      " 3   host_name                       20758 non-null  object \n",
      " 4   neighbourhood_group             20758 non-null  object \n",
      " 5   neighbourhood                   20758 non-null  object \n",
      " 6   latitude                        20758 non-null  float64\n",
      " 7   longitude                       20758 non-null  float64\n",
      " 8   room_type                       20758 non-null  object \n",
      " 9   price                           20758 non-null  float64\n",
      " 10  minimum_nights                  20758 non-null  int64  \n",
      " 11  number_of_reviews               20758 non-null  int64  \n",
      " 12  last_review                     20758 non-null  object \n",
      " 13  reviews_per_month               20758 non-null  float64\n",
      " 14  calculated_host_listings_count  20758 non-null  int64  \n",
      " 15  availability_365                20758 non-null  int64  \n",
      " 16  number_of_reviews_ltm           20758 non-null  int64  \n",
      " 17  license                         20758 non-null  object \n",
      " 18  rating                          20758 non-null  object \n",
      " 19  bedrooms                        20758 non-null  object \n",
      " 20  beds                            20758 non-null  int64  \n",
      " 21  baths                           20758 non-null  object \n",
      "dtypes: float64(4), int64(8), object(10)\n",
      "memory usage: 3.5+ MB\n"
     ]
    }
   ],
   "source": [
    "# Check out information about the dataset like; number of rows & columns, data types, missing values, etc.\n",
    "NY_Airbnb.info()"
   ]
  },
  {
   "cell_type": "code",
   "execution_count": 4,
   "metadata": {},
   "outputs": [
    {
     "data": {
      "text/plain": [
       "id                                20758\n",
       "name                               9836\n",
       "host_id                           12449\n",
       "host_name                          5815\n",
       "neighbourhood_group                   5\n",
       "neighbourhood                       221\n",
       "latitude                          15382\n",
       "longitude                         14477\n",
       "room_type                             4\n",
       "price                               785\n",
       "minimum_nights                       69\n",
       "number_of_reviews                   470\n",
       "last_review                        1878\n",
       "reviews_per_month                   783\n",
       "calculated_host_listings_count       68\n",
       "availability_365                    366\n",
       "number_of_reviews_ltm               153\n",
       "license                             879\n",
       "rating                              162\n",
       "bedrooms                             12\n",
       "beds                                 17\n",
       "baths                                17\n",
       "dtype: int64"
      ]
     },
     "execution_count": 4,
     "metadata": {},
     "output_type": "execute_result"
    }
   ],
   "source": [
    "# Display the number of unique values in each column.\n",
    "NY_Airbnb.nunique()"
   ]
  },
  {
   "cell_type": "code",
   "execution_count": 5,
   "metadata": {},
   "outputs": [
    {
     "data": {
      "text/plain": [
       "0"
      ]
     },
     "execution_count": 5,
     "metadata": {},
     "output_type": "execute_result"
    }
   ],
   "source": [
    "# Check for duplicates.\n",
    "NY_Airbnb.duplicated().sum()"
   ]
  },
  {
   "cell_type": "code",
   "execution_count": 6,
   "metadata": {},
   "outputs": [
    {
     "data": {
      "text/html": [
       "<div>\n",
       "<style scoped>\n",
       "    .dataframe tbody tr th:only-of-type {\n",
       "        vertical-align: middle;\n",
       "    }\n",
       "\n",
       "    .dataframe tbody tr th {\n",
       "        vertical-align: top;\n",
       "    }\n",
       "\n",
       "    .dataframe thead th {\n",
       "        text-align: right;\n",
       "    }\n",
       "</style>\n",
       "<table border=\"1\" class=\"dataframe\">\n",
       "  <thead>\n",
       "    <tr style=\"text-align: right;\">\n",
       "      <th></th>\n",
       "      <th>id</th>\n",
       "      <th>name</th>\n",
       "      <th>host_id</th>\n",
       "      <th>host_name</th>\n",
       "      <th>neighbourhood_group</th>\n",
       "      <th>neighbourhood</th>\n",
       "      <th>latitude</th>\n",
       "      <th>longitude</th>\n",
       "      <th>room_type</th>\n",
       "      <th>price</th>\n",
       "      <th>...</th>\n",
       "      <th>last_review</th>\n",
       "      <th>reviews_per_month</th>\n",
       "      <th>calculated_host_listings_count</th>\n",
       "      <th>availability_365</th>\n",
       "      <th>number_of_reviews_ltm</th>\n",
       "      <th>license</th>\n",
       "      <th>rating</th>\n",
       "      <th>bedrooms</th>\n",
       "      <th>beds</th>\n",
       "      <th>baths</th>\n",
       "    </tr>\n",
       "  </thead>\n",
       "  <tbody>\n",
       "    <tr>\n",
       "      <th>0</th>\n",
       "      <td>1312228</td>\n",
       "      <td>Rental unit in Brooklyn · ★5.0 · 1 bedroom</td>\n",
       "      <td>7130382</td>\n",
       "      <td>Walter</td>\n",
       "      <td>Brooklyn</td>\n",
       "      <td>Clinton Hill</td>\n",
       "      <td>40.683710</td>\n",
       "      <td>-73.964610</td>\n",
       "      <td>Private room</td>\n",
       "      <td>55.0</td>\n",
       "      <td>...</td>\n",
       "      <td>2015-12-20</td>\n",
       "      <td>0.03</td>\n",
       "      <td>1</td>\n",
       "      <td>0</td>\n",
       "      <td>0</td>\n",
       "      <td>No License</td>\n",
       "      <td>5.0</td>\n",
       "      <td>1</td>\n",
       "      <td>1</td>\n",
       "      <td>Not specified</td>\n",
       "    </tr>\n",
       "    <tr>\n",
       "      <th>1</th>\n",
       "      <td>45277537</td>\n",
       "      <td>Rental unit in New York · ★4.67 · 2 bedrooms ·...</td>\n",
       "      <td>51501835</td>\n",
       "      <td>Jeniffer</td>\n",
       "      <td>Manhattan</td>\n",
       "      <td>Hell's Kitchen</td>\n",
       "      <td>40.766610</td>\n",
       "      <td>-73.988100</td>\n",
       "      <td>Entire home/apt</td>\n",
       "      <td>144.0</td>\n",
       "      <td>...</td>\n",
       "      <td>2023-05-01</td>\n",
       "      <td>0.24</td>\n",
       "      <td>139</td>\n",
       "      <td>364</td>\n",
       "      <td>2</td>\n",
       "      <td>No License</td>\n",
       "      <td>4.67</td>\n",
       "      <td>2</td>\n",
       "      <td>1</td>\n",
       "      <td>1</td>\n",
       "    </tr>\n",
       "    <tr>\n",
       "      <th>2</th>\n",
       "      <td>971353993633883038</td>\n",
       "      <td>Rental unit in New York · ★4.17 · 1 bedroom · ...</td>\n",
       "      <td>528871354</td>\n",
       "      <td>Joshua</td>\n",
       "      <td>Manhattan</td>\n",
       "      <td>Chelsea</td>\n",
       "      <td>40.750764</td>\n",
       "      <td>-73.994605</td>\n",
       "      <td>Entire home/apt</td>\n",
       "      <td>187.0</td>\n",
       "      <td>...</td>\n",
       "      <td>2023-12-18</td>\n",
       "      <td>1.67</td>\n",
       "      <td>1</td>\n",
       "      <td>343</td>\n",
       "      <td>6</td>\n",
       "      <td>Exempt</td>\n",
       "      <td>4.17</td>\n",
       "      <td>1</td>\n",
       "      <td>2</td>\n",
       "      <td>1</td>\n",
       "    </tr>\n",
       "    <tr>\n",
       "      <th>3</th>\n",
       "      <td>3857863</td>\n",
       "      <td>Rental unit in New York · ★4.64 · 1 bedroom · ...</td>\n",
       "      <td>19902271</td>\n",
       "      <td>John And Catherine</td>\n",
       "      <td>Manhattan</td>\n",
       "      <td>Washington Heights</td>\n",
       "      <td>40.835600</td>\n",
       "      <td>-73.942500</td>\n",
       "      <td>Private room</td>\n",
       "      <td>120.0</td>\n",
       "      <td>...</td>\n",
       "      <td>2023-09-17</td>\n",
       "      <td>1.38</td>\n",
       "      <td>2</td>\n",
       "      <td>363</td>\n",
       "      <td>12</td>\n",
       "      <td>No License</td>\n",
       "      <td>4.64</td>\n",
       "      <td>1</td>\n",
       "      <td>1</td>\n",
       "      <td>1</td>\n",
       "    </tr>\n",
       "    <tr>\n",
       "      <th>4</th>\n",
       "      <td>40896611</td>\n",
       "      <td>Condo in New York · ★4.91 · Studio · 1 bed · 1...</td>\n",
       "      <td>61391963</td>\n",
       "      <td>Stay With Vibe</td>\n",
       "      <td>Manhattan</td>\n",
       "      <td>Murray Hill</td>\n",
       "      <td>40.751120</td>\n",
       "      <td>-73.978600</td>\n",
       "      <td>Entire home/apt</td>\n",
       "      <td>85.0</td>\n",
       "      <td>...</td>\n",
       "      <td>2023-12-03</td>\n",
       "      <td>0.24</td>\n",
       "      <td>133</td>\n",
       "      <td>335</td>\n",
       "      <td>3</td>\n",
       "      <td>No License</td>\n",
       "      <td>4.91</td>\n",
       "      <td>Studio</td>\n",
       "      <td>1</td>\n",
       "      <td>1</td>\n",
       "    </tr>\n",
       "    <tr>\n",
       "      <th>...</th>\n",
       "      <td>...</td>\n",
       "      <td>...</td>\n",
       "      <td>...</td>\n",
       "      <td>...</td>\n",
       "      <td>...</td>\n",
       "      <td>...</td>\n",
       "      <td>...</td>\n",
       "      <td>...</td>\n",
       "      <td>...</td>\n",
       "      <td>...</td>\n",
       "      <td>...</td>\n",
       "      <td>...</td>\n",
       "      <td>...</td>\n",
       "      <td>...</td>\n",
       "      <td>...</td>\n",
       "      <td>...</td>\n",
       "      <td>...</td>\n",
       "      <td>...</td>\n",
       "      <td>...</td>\n",
       "      <td>...</td>\n",
       "      <td>...</td>\n",
       "    </tr>\n",
       "    <tr>\n",
       "      <th>20753</th>\n",
       "      <td>24736896</td>\n",
       "      <td>Rental unit in New York · ★4.75 · 1 bedroom · ...</td>\n",
       "      <td>186680487</td>\n",
       "      <td>Henry D</td>\n",
       "      <td>Manhattan</td>\n",
       "      <td>Lower East Side</td>\n",
       "      <td>40.711380</td>\n",
       "      <td>-73.991560</td>\n",
       "      <td>Private room</td>\n",
       "      <td>45.0</td>\n",
       "      <td>...</td>\n",
       "      <td>2023-09-29</td>\n",
       "      <td>1.81</td>\n",
       "      <td>1</td>\n",
       "      <td>157</td>\n",
       "      <td>12</td>\n",
       "      <td>No License</td>\n",
       "      <td>4.75</td>\n",
       "      <td>1</td>\n",
       "      <td>1</td>\n",
       "      <td>1</td>\n",
       "    </tr>\n",
       "    <tr>\n",
       "      <th>20754</th>\n",
       "      <td>2835711</td>\n",
       "      <td>Rental unit in New York · ★4.46 · 1 bedroom · ...</td>\n",
       "      <td>3237504</td>\n",
       "      <td>Aspen</td>\n",
       "      <td>Manhattan</td>\n",
       "      <td>Greenwich Village</td>\n",
       "      <td>40.730580</td>\n",
       "      <td>-74.000700</td>\n",
       "      <td>Entire home/apt</td>\n",
       "      <td>105.0</td>\n",
       "      <td>...</td>\n",
       "      <td>2023-07-01</td>\n",
       "      <td>0.48</td>\n",
       "      <td>1</td>\n",
       "      <td>0</td>\n",
       "      <td>1</td>\n",
       "      <td>No License</td>\n",
       "      <td>4.46</td>\n",
       "      <td>1</td>\n",
       "      <td>2</td>\n",
       "      <td>1</td>\n",
       "    </tr>\n",
       "    <tr>\n",
       "      <th>20755</th>\n",
       "      <td>51825274</td>\n",
       "      <td>Rental unit in New York · ★4.93 · 1 bedroom · ...</td>\n",
       "      <td>304317395</td>\n",
       "      <td>Jeff</td>\n",
       "      <td>Manhattan</td>\n",
       "      <td>Hell's Kitchen</td>\n",
       "      <td>40.757350</td>\n",
       "      <td>-73.993430</td>\n",
       "      <td>Entire home/apt</td>\n",
       "      <td>299.0</td>\n",
       "      <td>...</td>\n",
       "      <td>2023-12-08</td>\n",
       "      <td>2.09</td>\n",
       "      <td>1</td>\n",
       "      <td>0</td>\n",
       "      <td>27</td>\n",
       "      <td>No License</td>\n",
       "      <td>4.93</td>\n",
       "      <td>1</td>\n",
       "      <td>1</td>\n",
       "      <td>1</td>\n",
       "    </tr>\n",
       "    <tr>\n",
       "      <th>20756</th>\n",
       "      <td>782661008019550832</td>\n",
       "      <td>Rental unit in New York · ★5.0 · 1 bedroom · 1...</td>\n",
       "      <td>163083101</td>\n",
       "      <td>Marissa</td>\n",
       "      <td>Manhattan</td>\n",
       "      <td>Chinatown</td>\n",
       "      <td>40.713750</td>\n",
       "      <td>-73.991470</td>\n",
       "      <td>Entire home/apt</td>\n",
       "      <td>115.0</td>\n",
       "      <td>...</td>\n",
       "      <td>2023-09-17</td>\n",
       "      <td>0.91</td>\n",
       "      <td>1</td>\n",
       "      <td>363</td>\n",
       "      <td>7</td>\n",
       "      <td>No License</td>\n",
       "      <td>5.0</td>\n",
       "      <td>1</td>\n",
       "      <td>1</td>\n",
       "      <td>1</td>\n",
       "    </tr>\n",
       "    <tr>\n",
       "      <th>20757</th>\n",
       "      <td>566029911248687183</td>\n",
       "      <td>Rental unit in Queens · ★4.89 · 1 bedroom · 1 ...</td>\n",
       "      <td>93827372</td>\n",
       "      <td>Glenroy</td>\n",
       "      <td>Queens</td>\n",
       "      <td>Rosedale</td>\n",
       "      <td>40.658874</td>\n",
       "      <td>-73.728651</td>\n",
       "      <td>Private room</td>\n",
       "      <td>102.0</td>\n",
       "      <td>...</td>\n",
       "      <td>2023-12-10</td>\n",
       "      <td>4.50</td>\n",
       "      <td>1</td>\n",
       "      <td>0</td>\n",
       "      <td>62</td>\n",
       "      <td>OSE-STRREG-0000513</td>\n",
       "      <td>4.89</td>\n",
       "      <td>1</td>\n",
       "      <td>1</td>\n",
       "      <td>1</td>\n",
       "    </tr>\n",
       "  </tbody>\n",
       "</table>\n",
       "<p>20758 rows × 22 columns</p>\n",
       "</div>"
      ],
      "text/plain": [
       "                       id                                               name  \\\n",
       "0                 1312228         Rental unit in Brooklyn · ★5.0 · 1 bedroom   \n",
       "1                45277537  Rental unit in New York · ★4.67 · 2 bedrooms ·...   \n",
       "2      971353993633883038  Rental unit in New York · ★4.17 · 1 bedroom · ...   \n",
       "3                 3857863  Rental unit in New York · ★4.64 · 1 bedroom · ...   \n",
       "4                40896611  Condo in New York · ★4.91 · Studio · 1 bed · 1...   \n",
       "...                   ...                                                ...   \n",
       "20753            24736896  Rental unit in New York · ★4.75 · 1 bedroom · ...   \n",
       "20754             2835711  Rental unit in New York · ★4.46 · 1 bedroom · ...   \n",
       "20755            51825274  Rental unit in New York · ★4.93 · 1 bedroom · ...   \n",
       "20756  782661008019550832  Rental unit in New York · ★5.0 · 1 bedroom · 1...   \n",
       "20757  566029911248687183  Rental unit in Queens · ★4.89 · 1 bedroom · 1 ...   \n",
       "\n",
       "         host_id           host_name neighbourhood_group       neighbourhood  \\\n",
       "0        7130382              Walter            Brooklyn        Clinton Hill   \n",
       "1       51501835            Jeniffer           Manhattan      Hell's Kitchen   \n",
       "2      528871354              Joshua           Manhattan             Chelsea   \n",
       "3       19902271  John And Catherine           Manhattan  Washington Heights   \n",
       "4       61391963      Stay With Vibe           Manhattan         Murray Hill   \n",
       "...          ...                 ...                 ...                 ...   \n",
       "20753  186680487             Henry D           Manhattan     Lower East Side   \n",
       "20754    3237504               Aspen           Manhattan   Greenwich Village   \n",
       "20755  304317395                Jeff           Manhattan      Hell's Kitchen   \n",
       "20756  163083101             Marissa           Manhattan           Chinatown   \n",
       "20757   93827372             Glenroy              Queens            Rosedale   \n",
       "\n",
       "        latitude  longitude        room_type  price  ...  last_review  \\\n",
       "0      40.683710 -73.964610     Private room   55.0  ...   2015-12-20   \n",
       "1      40.766610 -73.988100  Entire home/apt  144.0  ...   2023-05-01   \n",
       "2      40.750764 -73.994605  Entire home/apt  187.0  ...   2023-12-18   \n",
       "3      40.835600 -73.942500     Private room  120.0  ...   2023-09-17   \n",
       "4      40.751120 -73.978600  Entire home/apt   85.0  ...   2023-12-03   \n",
       "...          ...        ...              ...    ...  ...          ...   \n",
       "20753  40.711380 -73.991560     Private room   45.0  ...   2023-09-29   \n",
       "20754  40.730580 -74.000700  Entire home/apt  105.0  ...   2023-07-01   \n",
       "20755  40.757350 -73.993430  Entire home/apt  299.0  ...   2023-12-08   \n",
       "20756  40.713750 -73.991470  Entire home/apt  115.0  ...   2023-09-17   \n",
       "20757  40.658874 -73.728651     Private room  102.0  ...   2023-12-10   \n",
       "\n",
       "       reviews_per_month calculated_host_listings_count  availability_365  \\\n",
       "0                   0.03                              1                 0   \n",
       "1                   0.24                            139               364   \n",
       "2                   1.67                              1               343   \n",
       "3                   1.38                              2               363   \n",
       "4                   0.24                            133               335   \n",
       "...                  ...                            ...               ...   \n",
       "20753               1.81                              1               157   \n",
       "20754               0.48                              1                 0   \n",
       "20755               2.09                              1                 0   \n",
       "20756               0.91                              1               363   \n",
       "20757               4.50                              1                 0   \n",
       "\n",
       "       number_of_reviews_ltm             license  rating bedrooms beds  \\\n",
       "0                          0          No License    5.0         1    1   \n",
       "1                          2          No License   4.67         2    1   \n",
       "2                          6              Exempt   4.17         1    2   \n",
       "3                         12          No License   4.64         1    1   \n",
       "4                          3          No License   4.91    Studio    1   \n",
       "...                      ...                 ...     ...      ...  ...   \n",
       "20753                     12          No License   4.75         1    1   \n",
       "20754                      1          No License   4.46         1    2   \n",
       "20755                     27          No License   4.93         1    1   \n",
       "20756                      7          No License    5.0         1    1   \n",
       "20757                     62  OSE-STRREG-0000513   4.89         1    1   \n",
       "\n",
       "               baths  \n",
       "0      Not specified  \n",
       "1                  1  \n",
       "2                  1  \n",
       "3                  1  \n",
       "4                  1  \n",
       "...              ...  \n",
       "20753              1  \n",
       "20754              1  \n",
       "20755              1  \n",
       "20756              1  \n",
       "20757              1  \n",
       "\n",
       "[20758 rows x 22 columns]"
      ]
     },
     "execution_count": 6,
     "metadata": {},
     "output_type": "execute_result"
    }
   ],
   "source": [
    "# view the data.\n",
    "NY_Airbnb"
   ]
  },
  {
   "cell_type": "code",
   "execution_count": 7,
   "metadata": {},
   "outputs": [
    {
     "name": "stderr",
     "output_type": "stream",
     "text": [
      "C:\\Users\\HP\\AppData\\Local\\Temp\\ipykernel_40724\\3607869669.py:2: FutureWarning: The default value of regex will change from True to False in a future version.\n",
      "  NY_Airbnb['name'] = NY_Airbnb['name'].str.replace('★.*', '')\n"
     ]
    }
   ],
   "source": [
    "# Replace the ★ character and every sub-string character after it in the 'name' column with nothing.\n",
    "NY_Airbnb['name'] = NY_Airbnb['name'].str.replace('★.*', '')"
   ]
  },
  {
   "cell_type": "code",
   "execution_count": 8,
   "metadata": {},
   "outputs": [],
   "source": [
    "# Rename 'neighbourhood_group' to 'borough', 'calculated_host_listings_count' column to 'number_of_host_listings' and '\tlast_review' to 'last_review_date'.\n",
    "NY_Airbnb = NY_Airbnb.rename(columns= {'neighbourhood_group': 'borough',\n",
    "                                      'calculated_host_listings_count': 'number_of_host_listings',\n",
    "                                      'last_review': 'last_review_date'})"
   ]
  },
  {
   "cell_type": "code",
   "execution_count": 9,
   "metadata": {},
   "outputs": [],
   "source": [
    "# Change the column 'last_review_date' data type to Date.\n",
    "NY_Airbnb['last_review_date'] = pd.to_datetime(NY_Airbnb['last_review_date'], errors= 'coerce')\n",
    "\n",
    "# Extract the year to create a new column from last_review_date column, for easy plotting of line chart with it.\n",
    "NY_Airbnb['last_review_year'] = NY_Airbnb['last_review_date'].dt.year"
   ]
  },
  {
   "cell_type": "code",
   "execution_count": 10,
   "metadata": {},
   "outputs": [],
   "source": [
    "# Replace 'No rating' & 'New' values with 0 in the rating column.\n",
    "NY_Airbnb['rating'] = NY_Airbnb['rating'].str.replace('No rating', '0')\n",
    "NY_Airbnb['rating'] = NY_Airbnb['rating'].str.replace('New', '0')\n",
    "NY_Airbnb['rating'] = NY_Airbnb['rating'].astype('float64')         # Change 'rating' column data type to float."
   ]
  },
  {
   "cell_type": "code",
   "execution_count": 11,
   "metadata": {},
   "outputs": [],
   "source": [
    "# Create a column called 'other listing' where 'Studio' in 'bedrooms' column is equal to 'Studio' and other values are 'nill' to seperate studio from bedrooms.\n",
    "NY_Airbnb['other_listing'] = np.where(NY_Airbnb['bedrooms'] == 'Studio', 'Studio', 'Nill')"
   ]
  },
  {
   "cell_type": "code",
   "execution_count": 12,
   "metadata": {},
   "outputs": [],
   "source": [
    "# Replace 'Studio' values in bedrooms column to 0.\n",
    "NY_Airbnb['bedrooms'] = NY_Airbnb['bedrooms'].str.replace('Studio', '0')\n",
    "NY_Airbnb['bedrooms'] = NY_Airbnb['bedrooms'].astype('int64')          # Change 'bedrooms' data type to integer."
   ]
  },
  {
   "cell_type": "code",
   "execution_count": 13,
   "metadata": {},
   "outputs": [],
   "source": [
    "# Replace 'Not specified' values in baths column to 0.\n",
    "NY_Airbnb['baths'] = NY_Airbnb['baths'].str.replace('Not specified', '0')\n",
    "\n",
    "# Change 'baths' data type to float and drop values after decimal using np.floor() to round down. Then finally, change baths column to integer.\n",
    "NY_Airbnb['baths'] = np.floor(NY_Airbnb['baths'].astype(float)).astype('int64')"
   ]
  },
  {
   "cell_type": "code",
   "execution_count": 14,
   "metadata": {},
   "outputs": [],
   "source": [
    "# Create a column called 'host_listing_status' where avalaibility from 0 - 29days = Occassional, 30 - 180days = Seasonal, 181 & above days = Professional. \n",
    "NY_Airbnb['host_listing_status'] = np.where(NY_Airbnb['availability_365'] >= 181, 'Professional',\n",
    "                                           np.where(NY_Airbnb['availability_365'] >= 30, 'Seasonal',\n",
    "                                            'Occasional'))\n"
   ]
  },
  {
   "cell_type": "code",
   "execution_count": 15,
   "metadata": {},
   "outputs": [],
   "source": [
    "# Create an Occupancy rate column.\n",
    "\n",
    "# Estimate booked nights.\n",
    "##NY_Airbnb['estimated_bookings'] = NY_Airbnb['reviews_per_month'] * 12       # Approximate yearly bookings.\n",
    "##NY_Airbnb['booked_nights'] = NY_Airbnb['estimated_bookings'] * NY_Airbnb['minimum_nights']\n",
    "\n",
    "# Calculate Occupancy rate\n",
    "##NY_Airbnb['occupancy_rate'] = np.where(NY_Airbnb['availability_365'] > 0,    # Remove 0 from calculation to avoid infinity.\n",
    "                                        ##(NY_Airbnb['booked_nights'] / NY_Airbnb['availability_365']) * 100,\n",
    "                                        ##0)\n",
    "\n",
    "# Approximate the values of occupancy rate to 2 decimal point.\n",
    "##NY_Airbnb['occupancy_rate'] = NY_Airbnb['occupancy_rate'].round(2)"
   ]
  },
  {
   "cell_type": "code",
   "execution_count": 16,
   "metadata": {},
   "outputs": [],
   "source": [
    "# Edit settings to display all columns of the data.\n",
    "pd.set_option('display.max_columns', None)"
   ]
  },
  {
   "cell_type": "code",
   "execution_count": 17,
   "metadata": {},
   "outputs": [
    {
     "data": {
      "image/png": "[encoded data removed]",
      "text/plain": [
       "<Figure size 640x480 with 1 Axes>"
      ]
     },
     "metadata": {},
     "output_type": "display_data"
    }
   ],
   "source": [
    "# Observe metrics for calculating occupancy rate, to find out the reason why some values are more than 100% occupancy rate.\n",
    "NY_Airbnb.boxplot(column= ['minimum_nights', 'reviews_per_month', 'availability_365']) # Check for outliers.\n",
    "plt.title('Observation for Outliers')\n",
    "plt.ylabel('Value')\n",
    "plt.show()"
   ]
  },
  {
   "cell_type": "code",
   "execution_count": 18,
   "metadata": {},
   "outputs": [],
   "source": [
    "# Standardize the license column\n",
    "NY_Airbnb['license'] = NY_Airbnb['license'].str.replace('Ose-strreg-', 'OSE-STRREG-')\n",
    "NY_Airbnb['license'] = NY_Airbnb['license'].str.replace('ose-strreg-', 'OSE-STRREG-')\n",
    "\n",
    "# Create a new column of licence category for easy grouping and visualization of OSE values.\n",
    "NY_Airbnb['license_category'] = NY_Airbnb['license'].apply(lambda x: 'OSE License' if x.startswith('OSE') else x)"
   ]
  },
  {
   "cell_type": "code",
   "execution_count": 19,
   "metadata": {},
   "outputs": [
    {
     "name": "stdout",
     "output_type": "stream",
     "text": [
      "<class 'pandas.core.frame.DataFrame'>\n",
      "RangeIndex: 20758 entries, 0 to 20757\n",
      "Data columns (total 26 columns):\n",
      " #   Column                   Non-Null Count  Dtype         \n",
      "---  ------                   --------------  -----         \n",
      " 0   id                       20758 non-null  int64         \n",
      " 1   name                     20758 non-null  object        \n",
      " 2   host_id                  20758 non-null  int64         \n",
      " 3   host_name                20758 non-null  object        \n",
      " 4   borough                  20758 non-null  object        \n",
      " 5   neighbourhood            20758 non-null  object        \n",
      " 6   latitude                 20758 non-null  float64       \n",
      " 7   longitude                20758 non-null  float64       \n",
      " 8   room_type                20758 non-null  object        \n",
      " 9   price                    20758 non-null  float64       \n",
      " 10  minimum_nights           20758 non-null  int64         \n",
      " 11  number_of_reviews        20758 non-null  int64         \n",
      " 12  last_review_date         20758 non-null  datetime64[ns]\n",
      " 13  reviews_per_month        20758 non-null  float64       \n",
      " 14  number_of_host_listings  20758 non-null  int64         \n",
      " 15  availability_365         20758 non-null  int64         \n",
      " 16  number_of_reviews_ltm    20758 non-null  int64         \n",
      " 17  license                  20758 non-null  object        \n",
      " 18  rating                   20758 non-null  float64       \n",
      " 19  bedrooms                 20758 non-null  int64         \n",
      " 20  beds                     20758 non-null  int64         \n",
      " 21  baths                    20758 non-null  int64         \n",
      " 22  last_review_year         20758 non-null  int64         \n",
      " 23  other_listing            20758 non-null  object        \n",
      " 24  host_listing_status      20758 non-null  object        \n",
      " 25  license_category         20758 non-null  object        \n",
      "dtypes: datetime64[ns](1), float64(5), int64(11), object(9)\n",
      "memory usage: 4.1+ MB\n"
     ]
    }
   ],
   "source": [
    "# Check out the column data types after transformation.\n",
    "NY_Airbnb.info()"
   ]
  },
  {
   "cell_type": "code",
   "execution_count": 20,
   "metadata": {},
   "outputs": [
    {
     "data": {
      "text/html": [
       "<div>\n",
       "<style scoped>\n",
       "    .dataframe tbody tr th:only-of-type {\n",
       "        vertical-align: middle;\n",
       "    }\n",
       "\n",
       "    .dataframe tbody tr th {\n",
       "        vertical-align: top;\n",
       "    }\n",
       "\n",
       "    .dataframe thead th {\n",
       "        text-align: right;\n",
       "    }\n",
       "</style>\n",
       "<table border=\"1\" class=\"dataframe\">\n",
       "  <thead>\n",
       "    <tr style=\"text-align: right;\">\n",
       "      <th></th>\n",
       "      <th>id</th>\n",
       "      <th>name</th>\n",
       "      <th>host_id</th>\n",
       "      <th>host_name</th>\n",
       "      <th>borough</th>\n",
       "      <th>neighbourhood</th>\n",
       "      <th>latitude</th>\n",
       "      <th>longitude</th>\n",
       "      <th>room_type</th>\n",
       "      <th>price</th>\n",
       "      <th>minimum_nights</th>\n",
       "      <th>number_of_reviews</th>\n",
       "      <th>last_review_date</th>\n",
       "      <th>reviews_per_month</th>\n",
       "      <th>number_of_host_listings</th>\n",
       "      <th>availability_365</th>\n",
       "      <th>number_of_reviews_ltm</th>\n",
       "      <th>license</th>\n",
       "      <th>rating</th>\n",
       "      <th>bedrooms</th>\n",
       "      <th>beds</th>\n",
       "      <th>baths</th>\n",
       "      <th>last_review_year</th>\n",
       "      <th>other_listing</th>\n",
       "      <th>host_listing_status</th>\n",
       "      <th>license_category</th>\n",
       "    </tr>\n",
       "  </thead>\n",
       "  <tbody>\n",
       "    <tr>\n",
       "      <th>0</th>\n",
       "      <td>1312228</td>\n",
       "      <td>Rental unit in Brooklyn ·</td>\n",
       "      <td>7130382</td>\n",
       "      <td>Walter</td>\n",
       "      <td>Brooklyn</td>\n",
       "      <td>Clinton Hill</td>\n",
       "      <td>40.683710</td>\n",
       "      <td>-73.964610</td>\n",
       "      <td>Private room</td>\n",
       "      <td>55.0</td>\n",
       "      <td>30</td>\n",
       "      <td>3</td>\n",
       "      <td>2015-12-20</td>\n",
       "      <td>0.03</td>\n",
       "      <td>1</td>\n",
       "      <td>0</td>\n",
       "      <td>0</td>\n",
       "      <td>No License</td>\n",
       "      <td>5.00</td>\n",
       "      <td>1</td>\n",
       "      <td>1</td>\n",
       "      <td>0</td>\n",
       "      <td>2015</td>\n",
       "      <td>Nill</td>\n",
       "      <td>Occasional</td>\n",
       "      <td>No License</td>\n",
       "    </tr>\n",
       "    <tr>\n",
       "      <th>1</th>\n",
       "      <td>45277537</td>\n",
       "      <td>Rental unit in New York ·</td>\n",
       "      <td>51501835</td>\n",
       "      <td>Jeniffer</td>\n",
       "      <td>Manhattan</td>\n",
       "      <td>Hell's Kitchen</td>\n",
       "      <td>40.766610</td>\n",
       "      <td>-73.988100</td>\n",
       "      <td>Entire home/apt</td>\n",
       "      <td>144.0</td>\n",
       "      <td>30</td>\n",
       "      <td>9</td>\n",
       "      <td>2023-05-01</td>\n",
       "      <td>0.24</td>\n",
       "      <td>139</td>\n",
       "      <td>364</td>\n",
       "      <td>2</td>\n",
       "      <td>No License</td>\n",
       "      <td>4.67</td>\n",
       "      <td>2</td>\n",
       "      <td>1</td>\n",
       "      <td>1</td>\n",
       "      <td>2023</td>\n",
       "      <td>Nill</td>\n",
       "      <td>Professional</td>\n",
       "      <td>No License</td>\n",
       "    </tr>\n",
       "    <tr>\n",
       "      <th>2</th>\n",
       "      <td>971353993633883038</td>\n",
       "      <td>Rental unit in New York ·</td>\n",
       "      <td>528871354</td>\n",
       "      <td>Joshua</td>\n",
       "      <td>Manhattan</td>\n",
       "      <td>Chelsea</td>\n",
       "      <td>40.750764</td>\n",
       "      <td>-73.994605</td>\n",
       "      <td>Entire home/apt</td>\n",
       "      <td>187.0</td>\n",
       "      <td>2</td>\n",
       "      <td>6</td>\n",
       "      <td>2023-12-18</td>\n",
       "      <td>1.67</td>\n",
       "      <td>1</td>\n",
       "      <td>343</td>\n",
       "      <td>6</td>\n",
       "      <td>Exempt</td>\n",
       "      <td>4.17</td>\n",
       "      <td>1</td>\n",
       "      <td>2</td>\n",
       "      <td>1</td>\n",
       "      <td>2023</td>\n",
       "      <td>Nill</td>\n",
       "      <td>Professional</td>\n",
       "      <td>Exempt</td>\n",
       "    </tr>\n",
       "    <tr>\n",
       "      <th>3</th>\n",
       "      <td>3857863</td>\n",
       "      <td>Rental unit in New York ·</td>\n",
       "      <td>19902271</td>\n",
       "      <td>John And Catherine</td>\n",
       "      <td>Manhattan</td>\n",
       "      <td>Washington Heights</td>\n",
       "      <td>40.835600</td>\n",
       "      <td>-73.942500</td>\n",
       "      <td>Private room</td>\n",
       "      <td>120.0</td>\n",
       "      <td>30</td>\n",
       "      <td>156</td>\n",
       "      <td>2023-09-17</td>\n",
       "      <td>1.38</td>\n",
       "      <td>2</td>\n",
       "      <td>363</td>\n",
       "      <td>12</td>\n",
       "      <td>No License</td>\n",
       "      <td>4.64</td>\n",
       "      <td>1</td>\n",
       "      <td>1</td>\n",
       "      <td>1</td>\n",
       "      <td>2023</td>\n",
       "      <td>Nill</td>\n",
       "      <td>Professional</td>\n",
       "      <td>No License</td>\n",
       "    </tr>\n",
       "    <tr>\n",
       "      <th>4</th>\n",
       "      <td>40896611</td>\n",
       "      <td>Condo in New York ·</td>\n",
       "      <td>61391963</td>\n",
       "      <td>Stay With Vibe</td>\n",
       "      <td>Manhattan</td>\n",
       "      <td>Murray Hill</td>\n",
       "      <td>40.751120</td>\n",
       "      <td>-73.978600</td>\n",
       "      <td>Entire home/apt</td>\n",
       "      <td>85.0</td>\n",
       "      <td>30</td>\n",
       "      <td>11</td>\n",
       "      <td>2023-12-03</td>\n",
       "      <td>0.24</td>\n",
       "      <td>133</td>\n",
       "      <td>335</td>\n",
       "      <td>3</td>\n",
       "      <td>No License</td>\n",
       "      <td>4.91</td>\n",
       "      <td>0</td>\n",
       "      <td>1</td>\n",
       "      <td>1</td>\n",
       "      <td>2023</td>\n",
       "      <td>Studio</td>\n",
       "      <td>Professional</td>\n",
       "      <td>No License</td>\n",
       "    </tr>\n",
       "    <tr>\n",
       "      <th>5</th>\n",
       "      <td>49584983</td>\n",
       "      <td>Rental unit in New York ·</td>\n",
       "      <td>51501835</td>\n",
       "      <td>Jeniffer</td>\n",
       "      <td>Manhattan</td>\n",
       "      <td>Hell's Kitchen</td>\n",
       "      <td>40.759950</td>\n",
       "      <td>-73.992960</td>\n",
       "      <td>Entire home/apt</td>\n",
       "      <td>115.0</td>\n",
       "      <td>30</td>\n",
       "      <td>5</td>\n",
       "      <td>2023-07-29</td>\n",
       "      <td>0.16</td>\n",
       "      <td>139</td>\n",
       "      <td>276</td>\n",
       "      <td>2</td>\n",
       "      <td>No License</td>\n",
       "      <td>5.00</td>\n",
       "      <td>1</td>\n",
       "      <td>1</td>\n",
       "      <td>1</td>\n",
       "      <td>2023</td>\n",
       "      <td>Nill</td>\n",
       "      <td>Professional</td>\n",
       "      <td>No License</td>\n",
       "    </tr>\n",
       "    <tr>\n",
       "      <th>6</th>\n",
       "      <td>45457047</td>\n",
       "      <td>Rental unit in New York ·</td>\n",
       "      <td>51501835</td>\n",
       "      <td>Jeniffer</td>\n",
       "      <td>Manhattan</td>\n",
       "      <td>Hell's Kitchen</td>\n",
       "      <td>40.767370</td>\n",
       "      <td>-73.987870</td>\n",
       "      <td>Entire home/apt</td>\n",
       "      <td>105.0</td>\n",
       "      <td>30</td>\n",
       "      <td>3</td>\n",
       "      <td>2022-08-31</td>\n",
       "      <td>0.10</td>\n",
       "      <td>139</td>\n",
       "      <td>364</td>\n",
       "      <td>0</td>\n",
       "      <td>No License</td>\n",
       "      <td>4.33</td>\n",
       "      <td>0</td>\n",
       "      <td>1</td>\n",
       "      <td>1</td>\n",
       "      <td>2022</td>\n",
       "      <td>Studio</td>\n",
       "      <td>Professional</td>\n",
       "      <td>No License</td>\n",
       "    </tr>\n",
       "    <tr>\n",
       "      <th>7</th>\n",
       "      <td>45847112</td>\n",
       "      <td>Rental unit in New York ·</td>\n",
       "      <td>51501835</td>\n",
       "      <td>Jeniffer</td>\n",
       "      <td>Manhattan</td>\n",
       "      <td>Hell's Kitchen</td>\n",
       "      <td>40.765190</td>\n",
       "      <td>-73.990130</td>\n",
       "      <td>Entire home/apt</td>\n",
       "      <td>130.0</td>\n",
       "      <td>30</td>\n",
       "      <td>10</td>\n",
       "      <td>2023-05-30</td>\n",
       "      <td>0.26</td>\n",
       "      <td>139</td>\n",
       "      <td>295</td>\n",
       "      <td>2</td>\n",
       "      <td>No License</td>\n",
       "      <td>4.50</td>\n",
       "      <td>2</td>\n",
       "      <td>2</td>\n",
       "      <td>1</td>\n",
       "      <td>2023</td>\n",
       "      <td>Nill</td>\n",
       "      <td>Professional</td>\n",
       "      <td>No License</td>\n",
       "    </tr>\n",
       "    <tr>\n",
       "      <th>8</th>\n",
       "      <td>19280212</td>\n",
       "      <td>Rental unit in Brooklyn ·</td>\n",
       "      <td>2526182</td>\n",
       "      <td>Margaux</td>\n",
       "      <td>Brooklyn</td>\n",
       "      <td>Williamsburg</td>\n",
       "      <td>40.711530</td>\n",
       "      <td>-73.953120</td>\n",
       "      <td>Private room</td>\n",
       "      <td>90.0</td>\n",
       "      <td>30</td>\n",
       "      <td>19</td>\n",
       "      <td>2023-10-01</td>\n",
       "      <td>0.24</td>\n",
       "      <td>2</td>\n",
       "      <td>5</td>\n",
       "      <td>2</td>\n",
       "      <td>No License</td>\n",
       "      <td>4.79</td>\n",
       "      <td>1</td>\n",
       "      <td>1</td>\n",
       "      <td>1</td>\n",
       "      <td>2023</td>\n",
       "      <td>Nill</td>\n",
       "      <td>Occasional</td>\n",
       "      <td>No License</td>\n",
       "    </tr>\n",
       "    <tr>\n",
       "      <th>9</th>\n",
       "      <td>895681617796889995</td>\n",
       "      <td>Rental unit in Brooklyn ·</td>\n",
       "      <td>14251313</td>\n",
       "      <td>Kristin</td>\n",
       "      <td>Brooklyn</td>\n",
       "      <td>Sunset Park</td>\n",
       "      <td>40.658913</td>\n",
       "      <td>-73.989590</td>\n",
       "      <td>Entire home/apt</td>\n",
       "      <td>292.0</td>\n",
       "      <td>30</td>\n",
       "      <td>12</td>\n",
       "      <td>2023-10-19</td>\n",
       "      <td>1.71</td>\n",
       "      <td>1</td>\n",
       "      <td>365</td>\n",
       "      <td>12</td>\n",
       "      <td>No License</td>\n",
       "      <td>4.67</td>\n",
       "      <td>1</td>\n",
       "      <td>1</td>\n",
       "      <td>1</td>\n",
       "      <td>2023</td>\n",
       "      <td>Nill</td>\n",
       "      <td>Professional</td>\n",
       "      <td>No License</td>\n",
       "    </tr>\n",
       "    <tr>\n",
       "      <th>10</th>\n",
       "      <td>17367484</td>\n",
       "      <td>Rental unit in Queens · 1 bedroom · 2 beds · 1...</td>\n",
       "      <td>84109314</td>\n",
       "      <td>Mary</td>\n",
       "      <td>Queens</td>\n",
       "      <td>Astoria</td>\n",
       "      <td>40.760680</td>\n",
       "      <td>-73.909260</td>\n",
       "      <td>Private room</td>\n",
       "      <td>120.0</td>\n",
       "      <td>30</td>\n",
       "      <td>1</td>\n",
       "      <td>2023-08-21</td>\n",
       "      <td>0.22</td>\n",
       "      <td>1</td>\n",
       "      <td>365</td>\n",
       "      <td>1</td>\n",
       "      <td>No License</td>\n",
       "      <td>0.00</td>\n",
       "      <td>1</td>\n",
       "      <td>2</td>\n",
       "      <td>1</td>\n",
       "      <td>2023</td>\n",
       "      <td>Nill</td>\n",
       "      <td>Professional</td>\n",
       "      <td>No License</td>\n",
       "    </tr>\n",
       "    <tr>\n",
       "      <th>11</th>\n",
       "      <td>22066430</td>\n",
       "      <td>Rental unit in Brooklyn ·</td>\n",
       "      <td>20604809</td>\n",
       "      <td>Houman</td>\n",
       "      <td>Brooklyn</td>\n",
       "      <td>Williamsburg</td>\n",
       "      <td>40.713200</td>\n",
       "      <td>-73.961760</td>\n",
       "      <td>Entire home/apt</td>\n",
       "      <td>160.0</td>\n",
       "      <td>30</td>\n",
       "      <td>49</td>\n",
       "      <td>2023-10-08</td>\n",
       "      <td>0.67</td>\n",
       "      <td>1</td>\n",
       "      <td>0</td>\n",
       "      <td>7</td>\n",
       "      <td>No License</td>\n",
       "      <td>4.71</td>\n",
       "      <td>0</td>\n",
       "      <td>1</td>\n",
       "      <td>1</td>\n",
       "      <td>2023</td>\n",
       "      <td>Studio</td>\n",
       "      <td>Occasional</td>\n",
       "      <td>No License</td>\n",
       "    </tr>\n",
       "    <tr>\n",
       "      <th>12</th>\n",
       "      <td>929978463825862773</td>\n",
       "      <td>Rental unit in New York · 1 bedroom · 1 bed · ...</td>\n",
       "      <td>21662972</td>\n",
       "      <td>Youning</td>\n",
       "      <td>Manhattan</td>\n",
       "      <td>Financial District</td>\n",
       "      <td>40.709994</td>\n",
       "      <td>-74.005000</td>\n",
       "      <td>Entire home/apt</td>\n",
       "      <td>100.0</td>\n",
       "      <td>30</td>\n",
       "      <td>1</td>\n",
       "      <td>2023-08-30</td>\n",
       "      <td>0.23</td>\n",
       "      <td>1</td>\n",
       "      <td>38</td>\n",
       "      <td>1</td>\n",
       "      <td>No License</td>\n",
       "      <td>0.00</td>\n",
       "      <td>1</td>\n",
       "      <td>1</td>\n",
       "      <td>1</td>\n",
       "      <td>2023</td>\n",
       "      <td>Nill</td>\n",
       "      <td>Seasonal</td>\n",
       "      <td>No License</td>\n",
       "    </tr>\n",
       "    <tr>\n",
       "      <th>13</th>\n",
       "      <td>26448665</td>\n",
       "      <td>Rental unit in Queens · 1 bedroom · 1 bed · 1 ...</td>\n",
       "      <td>38713773</td>\n",
       "      <td>Fabrizio</td>\n",
       "      <td>Queens</td>\n",
       "      <td>Sunnyside</td>\n",
       "      <td>40.743470</td>\n",
       "      <td>-73.913960</td>\n",
       "      <td>Private room</td>\n",
       "      <td>70.0</td>\n",
       "      <td>30</td>\n",
       "      <td>1</td>\n",
       "      <td>2019-11-03</td>\n",
       "      <td>0.02</td>\n",
       "      <td>1</td>\n",
       "      <td>0</td>\n",
       "      <td>0</td>\n",
       "      <td>No License</td>\n",
       "      <td>0.00</td>\n",
       "      <td>1</td>\n",
       "      <td>1</td>\n",
       "      <td>1</td>\n",
       "      <td>2019</td>\n",
       "      <td>Nill</td>\n",
       "      <td>Occasional</td>\n",
       "      <td>No License</td>\n",
       "    </tr>\n",
       "    <tr>\n",
       "      <th>14</th>\n",
       "      <td>28224871</td>\n",
       "      <td>Rental unit in New York ·</td>\n",
       "      <td>187148732</td>\n",
       "      <td>Yehudah</td>\n",
       "      <td>Manhattan</td>\n",
       "      <td>Washington Heights</td>\n",
       "      <td>40.839690</td>\n",
       "      <td>-73.938610</td>\n",
       "      <td>Entire home/apt</td>\n",
       "      <td>164.0</td>\n",
       "      <td>30</td>\n",
       "      <td>5</td>\n",
       "      <td>2019-04-13</td>\n",
       "      <td>0.08</td>\n",
       "      <td>1</td>\n",
       "      <td>0</td>\n",
       "      <td>0</td>\n",
       "      <td>No License</td>\n",
       "      <td>3.20</td>\n",
       "      <td>2</td>\n",
       "      <td>3</td>\n",
       "      <td>1</td>\n",
       "      <td>2019</td>\n",
       "      <td>Nill</td>\n",
       "      <td>Occasional</td>\n",
       "      <td>No License</td>\n",
       "    </tr>\n",
       "    <tr>\n",
       "      <th>15</th>\n",
       "      <td>29923599</td>\n",
       "      <td>Serviced apartment in New York City · Studio ·...</td>\n",
       "      <td>220229838</td>\n",
       "      <td>Chamber Hotel</td>\n",
       "      <td>Manhattan</td>\n",
       "      <td>Midtown</td>\n",
       "      <td>40.761760</td>\n",
       "      <td>-73.976590</td>\n",
       "      <td>Hotel room</td>\n",
       "      <td>1000.0</td>\n",
       "      <td>30</td>\n",
       "      <td>1</td>\n",
       "      <td>2019-07-02</td>\n",
       "      <td>0.02</td>\n",
       "      <td>10</td>\n",
       "      <td>363</td>\n",
       "      <td>0</td>\n",
       "      <td>Exempt</td>\n",
       "      <td>0.00</td>\n",
       "      <td>0</td>\n",
       "      <td>2</td>\n",
       "      <td>1</td>\n",
       "      <td>2019</td>\n",
       "      <td>Studio</td>\n",
       "      <td>Professional</td>\n",
       "      <td>Exempt</td>\n",
       "    </tr>\n",
       "    <tr>\n",
       "      <th>16</th>\n",
       "      <td>23053827</td>\n",
       "      <td>Home in East Elmhurst  · 1 bedroom · 1 bed · 1...</td>\n",
       "      <td>171107511</td>\n",
       "      <td>Paola</td>\n",
       "      <td>Queens</td>\n",
       "      <td>East Elmhurst</td>\n",
       "      <td>40.765290</td>\n",
       "      <td>-73.863610</td>\n",
       "      <td>Private room</td>\n",
       "      <td>45.0</td>\n",
       "      <td>30</td>\n",
       "      <td>1</td>\n",
       "      <td>2018-10-07</td>\n",
       "      <td>0.02</td>\n",
       "      <td>1</td>\n",
       "      <td>0</td>\n",
       "      <td>0</td>\n",
       "      <td>No License</td>\n",
       "      <td>0.00</td>\n",
       "      <td>1</td>\n",
       "      <td>1</td>\n",
       "      <td>1</td>\n",
       "      <td>2018</td>\n",
       "      <td>Nill</td>\n",
       "      <td>Occasional</td>\n",
       "      <td>No License</td>\n",
       "    </tr>\n",
       "    <tr>\n",
       "      <th>17</th>\n",
       "      <td>34718504</td>\n",
       "      <td>Condo in New York · 2 bedrooms · 2 beds · 2 baths</td>\n",
       "      <td>6674394</td>\n",
       "      <td>Eri</td>\n",
       "      <td>Manhattan</td>\n",
       "      <td>Upper West Side</td>\n",
       "      <td>40.792830</td>\n",
       "      <td>-73.971900</td>\n",
       "      <td>Entire home/apt</td>\n",
       "      <td>425.0</td>\n",
       "      <td>180</td>\n",
       "      <td>1</td>\n",
       "      <td>2019-06-25</td>\n",
       "      <td>0.02</td>\n",
       "      <td>1</td>\n",
       "      <td>358</td>\n",
       "      <td>0</td>\n",
       "      <td>No License</td>\n",
       "      <td>0.00</td>\n",
       "      <td>2</td>\n",
       "      <td>2</td>\n",
       "      <td>2</td>\n",
       "      <td>2019</td>\n",
       "      <td>Nill</td>\n",
       "      <td>Professional</td>\n",
       "      <td>No License</td>\n",
       "    </tr>\n",
       "    <tr>\n",
       "      <th>18</th>\n",
       "      <td>39022484</td>\n",
       "      <td>Serviced apartment in New York ·</td>\n",
       "      <td>241889662</td>\n",
       "      <td>Incentra Village Guest House</td>\n",
       "      <td>Manhattan</td>\n",
       "      <td>West Village</td>\n",
       "      <td>40.738880</td>\n",
       "      <td>-74.003430</td>\n",
       "      <td>Private room</td>\n",
       "      <td>196.0</td>\n",
       "      <td>30</td>\n",
       "      <td>5</td>\n",
       "      <td>2022-07-26</td>\n",
       "      <td>0.10</td>\n",
       "      <td>12</td>\n",
       "      <td>0</td>\n",
       "      <td>0</td>\n",
       "      <td>No License</td>\n",
       "      <td>4.80</td>\n",
       "      <td>1</td>\n",
       "      <td>1</td>\n",
       "      <td>1</td>\n",
       "      <td>2022</td>\n",
       "      <td>Nill</td>\n",
       "      <td>Occasional</td>\n",
       "      <td>No License</td>\n",
       "    </tr>\n",
       "    <tr>\n",
       "      <th>19</th>\n",
       "      <td>34511726</td>\n",
       "      <td>Rental unit in Brooklyn ·</td>\n",
       "      <td>260475429</td>\n",
       "      <td>Zahira</td>\n",
       "      <td>Brooklyn</td>\n",
       "      <td>Kensington</td>\n",
       "      <td>40.643040</td>\n",
       "      <td>-73.979640</td>\n",
       "      <td>Entire home/apt</td>\n",
       "      <td>120.0</td>\n",
       "      <td>30</td>\n",
       "      <td>26</td>\n",
       "      <td>2020-03-15</td>\n",
       "      <td>0.47</td>\n",
       "      <td>2</td>\n",
       "      <td>0</td>\n",
       "      <td>0</td>\n",
       "      <td>No License</td>\n",
       "      <td>4.65</td>\n",
       "      <td>1</td>\n",
       "      <td>1</td>\n",
       "      <td>1</td>\n",
       "      <td>2020</td>\n",
       "      <td>Nill</td>\n",
       "      <td>Occasional</td>\n",
       "      <td>No License</td>\n",
       "    </tr>\n",
       "    <tr>\n",
       "      <th>20</th>\n",
       "      <td>35376453</td>\n",
       "      <td>Rental unit in Brooklyn · 1 bedroom · 2 beds ·...</td>\n",
       "      <td>234383668</td>\n",
       "      <td>Federica</td>\n",
       "      <td>Brooklyn</td>\n",
       "      <td>Williamsburg</td>\n",
       "      <td>40.713360</td>\n",
       "      <td>-73.954950</td>\n",
       "      <td>Entire home/apt</td>\n",
       "      <td>100.0</td>\n",
       "      <td>30</td>\n",
       "      <td>1</td>\n",
       "      <td>2019-08-10</td>\n",
       "      <td>0.02</td>\n",
       "      <td>1</td>\n",
       "      <td>0</td>\n",
       "      <td>0</td>\n",
       "      <td>No License</td>\n",
       "      <td>0.00</td>\n",
       "      <td>1</td>\n",
       "      <td>2</td>\n",
       "      <td>1</td>\n",
       "      <td>2019</td>\n",
       "      <td>Nill</td>\n",
       "      <td>Occasional</td>\n",
       "      <td>No License</td>\n",
       "    </tr>\n",
       "    <tr>\n",
       "      <th>21</th>\n",
       "      <td>34621385</td>\n",
       "      <td>Rental unit in Brooklyn ·</td>\n",
       "      <td>3899139</td>\n",
       "      <td>David</td>\n",
       "      <td>Brooklyn</td>\n",
       "      <td>Bushwick</td>\n",
       "      <td>40.704770</td>\n",
       "      <td>-73.926710</td>\n",
       "      <td>Entire home/apt</td>\n",
       "      <td>220.0</td>\n",
       "      <td>30</td>\n",
       "      <td>12</td>\n",
       "      <td>2020-01-05</td>\n",
       "      <td>0.21</td>\n",
       "      <td>1</td>\n",
       "      <td>0</td>\n",
       "      <td>0</td>\n",
       "      <td>No License</td>\n",
       "      <td>5.00</td>\n",
       "      <td>2</td>\n",
       "      <td>2</td>\n",
       "      <td>1</td>\n",
       "      <td>2020</td>\n",
       "      <td>Nill</td>\n",
       "      <td>Occasional</td>\n",
       "      <td>No License</td>\n",
       "    </tr>\n",
       "    <tr>\n",
       "      <th>22</th>\n",
       "      <td>36819630</td>\n",
       "      <td>Rental unit in Brooklyn ·</td>\n",
       "      <td>188207570</td>\n",
       "      <td>Claire</td>\n",
       "      <td>Brooklyn</td>\n",
       "      <td>Red Hook</td>\n",
       "      <td>40.676730</td>\n",
       "      <td>-74.001940</td>\n",
       "      <td>Entire home/apt</td>\n",
       "      <td>84.0</td>\n",
       "      <td>30</td>\n",
       "      <td>4</td>\n",
       "      <td>2020-12-12</td>\n",
       "      <td>0.08</td>\n",
       "      <td>1</td>\n",
       "      <td>0</td>\n",
       "      <td>0</td>\n",
       "      <td>No License</td>\n",
       "      <td>4.75</td>\n",
       "      <td>1</td>\n",
       "      <td>1</td>\n",
       "      <td>1</td>\n",
       "      <td>2020</td>\n",
       "      <td>Nill</td>\n",
       "      <td>Occasional</td>\n",
       "      <td>No License</td>\n",
       "    </tr>\n",
       "    <tr>\n",
       "      <th>23</th>\n",
       "      <td>35574095</td>\n",
       "      <td>Rental unit in New York · 1 bedroom · 1 bed · ...</td>\n",
       "      <td>7258900</td>\n",
       "      <td>Jill</td>\n",
       "      <td>Manhattan</td>\n",
       "      <td>Tribeca</td>\n",
       "      <td>40.714460</td>\n",
       "      <td>-74.008260</td>\n",
       "      <td>Private room</td>\n",
       "      <td>200.0</td>\n",
       "      <td>30</td>\n",
       "      <td>1</td>\n",
       "      <td>2019-06-14</td>\n",
       "      <td>0.02</td>\n",
       "      <td>1</td>\n",
       "      <td>0</td>\n",
       "      <td>0</td>\n",
       "      <td>No License</td>\n",
       "      <td>0.00</td>\n",
       "      <td>1</td>\n",
       "      <td>1</td>\n",
       "      <td>1</td>\n",
       "      <td>2019</td>\n",
       "      <td>Nill</td>\n",
       "      <td>Occasional</td>\n",
       "      <td>No License</td>\n",
       "    </tr>\n",
       "    <tr>\n",
       "      <th>24</th>\n",
       "      <td>950726818995939836</td>\n",
       "      <td>Hotel in New York · 1 bedroom · 1 bed · 1 bath</td>\n",
       "      <td>215565541</td>\n",
       "      <td>LuxUrban</td>\n",
       "      <td>Manhattan</td>\n",
       "      <td>Hell's Kitchen</td>\n",
       "      <td>40.760346</td>\n",
       "      <td>-73.987797</td>\n",
       "      <td>Private room</td>\n",
       "      <td>261.0</td>\n",
       "      <td>1</td>\n",
       "      <td>2</td>\n",
       "      <td>2023-11-22</td>\n",
       "      <td>0.50</td>\n",
       "      <td>35</td>\n",
       "      <td>0</td>\n",
       "      <td>2</td>\n",
       "      <td>Exempt</td>\n",
       "      <td>0.00</td>\n",
       "      <td>1</td>\n",
       "      <td>1</td>\n",
       "      <td>1</td>\n",
       "      <td>2023</td>\n",
       "      <td>Nill</td>\n",
       "      <td>Occasional</td>\n",
       "      <td>Exempt</td>\n",
       "    </tr>\n",
       "    <tr>\n",
       "      <th>25</th>\n",
       "      <td>40658238</td>\n",
       "      <td>Townhouse in Queens · 1 bedroom · 2 beds · 1 s...</td>\n",
       "      <td>150022684</td>\n",
       "      <td>Hoang</td>\n",
       "      <td>Queens</td>\n",
       "      <td>Woodside</td>\n",
       "      <td>40.743760</td>\n",
       "      <td>-73.900080</td>\n",
       "      <td>Private room</td>\n",
       "      <td>85.0</td>\n",
       "      <td>30</td>\n",
       "      <td>1</td>\n",
       "      <td>2020-01-03</td>\n",
       "      <td>0.02</td>\n",
       "      <td>1</td>\n",
       "      <td>0</td>\n",
       "      <td>0</td>\n",
       "      <td>No License</td>\n",
       "      <td>0.00</td>\n",
       "      <td>1</td>\n",
       "      <td>2</td>\n",
       "      <td>1</td>\n",
       "      <td>2020</td>\n",
       "      <td>Nill</td>\n",
       "      <td>Occasional</td>\n",
       "      <td>No License</td>\n",
       "    </tr>\n",
       "    <tr>\n",
       "      <th>26</th>\n",
       "      <td>39558009</td>\n",
       "      <td>Rental unit in New York · 1 bedroom · 1 bed · ...</td>\n",
       "      <td>303941435</td>\n",
       "      <td>David</td>\n",
       "      <td>Manhattan</td>\n",
       "      <td>Roosevelt Island</td>\n",
       "      <td>40.763810</td>\n",
       "      <td>-73.949590</td>\n",
       "      <td>Private room</td>\n",
       "      <td>70.0</td>\n",
       "      <td>30</td>\n",
       "      <td>1</td>\n",
       "      <td>2020-01-20</td>\n",
       "      <td>0.02</td>\n",
       "      <td>1</td>\n",
       "      <td>0</td>\n",
       "      <td>0</td>\n",
       "      <td>No License</td>\n",
       "      <td>0.00</td>\n",
       "      <td>1</td>\n",
       "      <td>1</td>\n",
       "      <td>1</td>\n",
       "      <td>2020</td>\n",
       "      <td>Nill</td>\n",
       "      <td>Occasional</td>\n",
       "      <td>No License</td>\n",
       "    </tr>\n",
       "    <tr>\n",
       "      <th>27</th>\n",
       "      <td>39899915</td>\n",
       "      <td>Rental unit in The Bronx ·</td>\n",
       "      <td>307330962</td>\n",
       "      <td>Juan</td>\n",
       "      <td>Bronx</td>\n",
       "      <td>Concourse Village</td>\n",
       "      <td>40.828590</td>\n",
       "      <td>-73.919570</td>\n",
       "      <td>Private room</td>\n",
       "      <td>60.0</td>\n",
       "      <td>30</td>\n",
       "      <td>9</td>\n",
       "      <td>2022-01-02</td>\n",
       "      <td>0.18</td>\n",
       "      <td>1</td>\n",
       "      <td>2</td>\n",
       "      <td>0</td>\n",
       "      <td>No License</td>\n",
       "      <td>4.89</td>\n",
       "      <td>1</td>\n",
       "      <td>1</td>\n",
       "      <td>1</td>\n",
       "      <td>2022</td>\n",
       "      <td>Nill</td>\n",
       "      <td>Occasional</td>\n",
       "      <td>No License</td>\n",
       "    </tr>\n",
       "  </tbody>\n",
       "</table>\n",
       "</div>"
      ],
      "text/plain": [
       "                    id                                               name  \\\n",
       "0              1312228                         Rental unit in Brooklyn ·    \n",
       "1             45277537                         Rental unit in New York ·    \n",
       "2   971353993633883038                         Rental unit in New York ·    \n",
       "3              3857863                         Rental unit in New York ·    \n",
       "4             40896611                               Condo in New York ·    \n",
       "5             49584983                         Rental unit in New York ·    \n",
       "6             45457047                         Rental unit in New York ·    \n",
       "7             45847112                         Rental unit in New York ·    \n",
       "8             19280212                         Rental unit in Brooklyn ·    \n",
       "9   895681617796889995                         Rental unit in Brooklyn ·    \n",
       "10            17367484  Rental unit in Queens · 1 bedroom · 2 beds · 1...   \n",
       "11            22066430                         Rental unit in Brooklyn ·    \n",
       "12  929978463825862773  Rental unit in New York · 1 bedroom · 1 bed · ...   \n",
       "13            26448665  Rental unit in Queens · 1 bedroom · 1 bed · 1 ...   \n",
       "14            28224871                         Rental unit in New York ·    \n",
       "15            29923599  Serviced apartment in New York City · Studio ·...   \n",
       "16            23053827  Home in East Elmhurst  · 1 bedroom · 1 bed · 1...   \n",
       "17            34718504  Condo in New York · 2 bedrooms · 2 beds · 2 baths   \n",
       "18            39022484                  Serviced apartment in New York ·    \n",
       "19            34511726                         Rental unit in Brooklyn ·    \n",
       "20            35376453  Rental unit in Brooklyn · 1 bedroom · 2 beds ·...   \n",
       "21            34621385                         Rental unit in Brooklyn ·    \n",
       "22            36819630                         Rental unit in Brooklyn ·    \n",
       "23            35574095  Rental unit in New York · 1 bedroom · 1 bed · ...   \n",
       "24  950726818995939836     Hotel in New York · 1 bedroom · 1 bed · 1 bath   \n",
       "25            40658238  Townhouse in Queens · 1 bedroom · 2 beds · 1 s...   \n",
       "26            39558009  Rental unit in New York · 1 bedroom · 1 bed · ...   \n",
       "27            39899915                        Rental unit in The Bronx ·    \n",
       "\n",
       "      host_id                     host_name    borough       neighbourhood  \\\n",
       "0     7130382                        Walter   Brooklyn        Clinton Hill   \n",
       "1    51501835                      Jeniffer  Manhattan      Hell's Kitchen   \n",
       "2   528871354                        Joshua  Manhattan             Chelsea   \n",
       "3    19902271            John And Catherine  Manhattan  Washington Heights   \n",
       "4    61391963                Stay With Vibe  Manhattan         Murray Hill   \n",
       "5    51501835                      Jeniffer  Manhattan      Hell's Kitchen   \n",
       "6    51501835                      Jeniffer  Manhattan      Hell's Kitchen   \n",
       "7    51501835                      Jeniffer  Manhattan      Hell's Kitchen   \n",
       "8     2526182                       Margaux   Brooklyn        Williamsburg   \n",
       "9    14251313                       Kristin   Brooklyn         Sunset Park   \n",
       "10   84109314                          Mary     Queens             Astoria   \n",
       "11   20604809                        Houman   Brooklyn        Williamsburg   \n",
       "12   21662972                       Youning  Manhattan  Financial District   \n",
       "13   38713773                      Fabrizio     Queens           Sunnyside   \n",
       "14  187148732                       Yehudah  Manhattan  Washington Heights   \n",
       "15  220229838                 Chamber Hotel  Manhattan             Midtown   \n",
       "16  171107511                         Paola     Queens       East Elmhurst   \n",
       "17    6674394                           Eri  Manhattan     Upper West Side   \n",
       "18  241889662  Incentra Village Guest House  Manhattan        West Village   \n",
       "19  260475429                        Zahira   Brooklyn          Kensington   \n",
       "20  234383668                      Federica   Brooklyn        Williamsburg   \n",
       "21    3899139                         David   Brooklyn            Bushwick   \n",
       "22  188207570                        Claire   Brooklyn            Red Hook   \n",
       "23    7258900                          Jill  Manhattan             Tribeca   \n",
       "24  215565541                      LuxUrban  Manhattan      Hell's Kitchen   \n",
       "25  150022684                         Hoang     Queens            Woodside   \n",
       "26  303941435                         David  Manhattan    Roosevelt Island   \n",
       "27  307330962                          Juan      Bronx   Concourse Village   \n",
       "\n",
       "     latitude  longitude        room_type   price  minimum_nights  \\\n",
       "0   40.683710 -73.964610     Private room    55.0              30   \n",
       "1   40.766610 -73.988100  Entire home/apt   144.0              30   \n",
       "2   40.750764 -73.994605  Entire home/apt   187.0               2   \n",
       "3   40.835600 -73.942500     Private room   120.0              30   \n",
       "4   40.751120 -73.978600  Entire home/apt    85.0              30   \n",
       "5   40.759950 -73.992960  Entire home/apt   115.0              30   \n",
       "6   40.767370 -73.987870  Entire home/apt   105.0              30   \n",
       "7   40.765190 -73.990130  Entire home/apt   130.0              30   \n",
       "8   40.711530 -73.953120     Private room    90.0              30   \n",
       "9   40.658913 -73.989590  Entire home/apt   292.0              30   \n",
       "10  40.760680 -73.909260     Private room   120.0              30   \n",
       "11  40.713200 -73.961760  Entire home/apt   160.0              30   \n",
       "12  40.709994 -74.005000  Entire home/apt   100.0              30   \n",
       "13  40.743470 -73.913960     Private room    70.0              30   \n",
       "14  40.839690 -73.938610  Entire home/apt   164.0              30   \n",
       "15  40.761760 -73.976590       Hotel room  1000.0              30   \n",
       "16  40.765290 -73.863610     Private room    45.0              30   \n",
       "17  40.792830 -73.971900  Entire home/apt   425.0             180   \n",
       "18  40.738880 -74.003430     Private room   196.0              30   \n",
       "19  40.643040 -73.979640  Entire home/apt   120.0              30   \n",
       "20  40.713360 -73.954950  Entire home/apt   100.0              30   \n",
       "21  40.704770 -73.926710  Entire home/apt   220.0              30   \n",
       "22  40.676730 -74.001940  Entire home/apt    84.0              30   \n",
       "23  40.714460 -74.008260     Private room   200.0              30   \n",
       "24  40.760346 -73.987797     Private room   261.0               1   \n",
       "25  40.743760 -73.900080     Private room    85.0              30   \n",
       "26  40.763810 -73.949590     Private room    70.0              30   \n",
       "27  40.828590 -73.919570     Private room    60.0              30   \n",
       "\n",
       "    number_of_reviews last_review_date  reviews_per_month  \\\n",
       "0                   3       2015-12-20               0.03   \n",
       "1                   9       2023-05-01               0.24   \n",
       "2                   6       2023-12-18               1.67   \n",
       "3                 156       2023-09-17               1.38   \n",
       "4                  11       2023-12-03               0.24   \n",
       "5                   5       2023-07-29               0.16   \n",
       "6                   3       2022-08-31               0.10   \n",
       "7                  10       2023-05-30               0.26   \n",
       "8                  19       2023-10-01               0.24   \n",
       "9                  12       2023-10-19               1.71   \n",
       "10                  1       2023-08-21               0.22   \n",
       "11                 49       2023-10-08               0.67   \n",
       "12                  1       2023-08-30               0.23   \n",
       "13                  1       2019-11-03               0.02   \n",
       "14                  5       2019-04-13               0.08   \n",
       "15                  1       2019-07-02               0.02   \n",
       "16                  1       2018-10-07               0.02   \n",
       "17                  1       2019-06-25               0.02   \n",
       "18                  5       2022-07-26               0.10   \n",
       "19                 26       2020-03-15               0.47   \n",
       "20                  1       2019-08-10               0.02   \n",
       "21                 12       2020-01-05               0.21   \n",
       "22                  4       2020-12-12               0.08   \n",
       "23                  1       2019-06-14               0.02   \n",
       "24                  2       2023-11-22               0.50   \n",
       "25                  1       2020-01-03               0.02   \n",
       "26                  1       2020-01-20               0.02   \n",
       "27                  9       2022-01-02               0.18   \n",
       "\n",
       "    number_of_host_listings  availability_365  number_of_reviews_ltm  \\\n",
       "0                         1                 0                      0   \n",
       "1                       139               364                      2   \n",
       "2                         1               343                      6   \n",
       "3                         2               363                     12   \n",
       "4                       133               335                      3   \n",
       "5                       139               276                      2   \n",
       "6                       139               364                      0   \n",
       "7                       139               295                      2   \n",
       "8                         2                 5                      2   \n",
       "9                         1               365                     12   \n",
       "10                        1               365                      1   \n",
       "11                        1                 0                      7   \n",
       "12                        1                38                      1   \n",
       "13                        1                 0                      0   \n",
       "14                        1                 0                      0   \n",
       "15                       10               363                      0   \n",
       "16                        1                 0                      0   \n",
       "17                        1               358                      0   \n",
       "18                       12                 0                      0   \n",
       "19                        2                 0                      0   \n",
       "20                        1                 0                      0   \n",
       "21                        1                 0                      0   \n",
       "22                        1                 0                      0   \n",
       "23                        1                 0                      0   \n",
       "24                       35                 0                      2   \n",
       "25                        1                 0                      0   \n",
       "26                        1                 0                      0   \n",
       "27                        1                 2                      0   \n",
       "\n",
       "       license  rating  bedrooms  beds  baths  last_review_year other_listing  \\\n",
       "0   No License    5.00         1     1      0              2015          Nill   \n",
       "1   No License    4.67         2     1      1              2023          Nill   \n",
       "2       Exempt    4.17         1     2      1              2023          Nill   \n",
       "3   No License    4.64         1     1      1              2023          Nill   \n",
       "4   No License    4.91         0     1      1              2023        Studio   \n",
       "5   No License    5.00         1     1      1              2023          Nill   \n",
       "6   No License    4.33         0     1      1              2022        Studio   \n",
       "7   No License    4.50         2     2      1              2023          Nill   \n",
       "8   No License    4.79         1     1      1              2023          Nill   \n",
       "9   No License    4.67         1     1      1              2023          Nill   \n",
       "10  No License    0.00         1     2      1              2023          Nill   \n",
       "11  No License    4.71         0     1      1              2023        Studio   \n",
       "12  No License    0.00         1     1      1              2023          Nill   \n",
       "13  No License    0.00         1     1      1              2019          Nill   \n",
       "14  No License    3.20         2     3      1              2019          Nill   \n",
       "15      Exempt    0.00         0     2      1              2019        Studio   \n",
       "16  No License    0.00         1     1      1              2018          Nill   \n",
       "17  No License    0.00         2     2      2              2019          Nill   \n",
       "18  No License    4.80         1     1      1              2022          Nill   \n",
       "19  No License    4.65         1     1      1              2020          Nill   \n",
       "20  No License    0.00         1     2      1              2019          Nill   \n",
       "21  No License    5.00         2     2      1              2020          Nill   \n",
       "22  No License    4.75         1     1      1              2020          Nill   \n",
       "23  No License    0.00         1     1      1              2019          Nill   \n",
       "24      Exempt    0.00         1     1      1              2023          Nill   \n",
       "25  No License    0.00         1     2      1              2020          Nill   \n",
       "26  No License    0.00         1     1      1              2020          Nill   \n",
       "27  No License    4.89         1     1      1              2022          Nill   \n",
       "\n",
       "   host_listing_status license_category  \n",
       "0           Occasional       No License  \n",
       "1         Professional       No License  \n",
       "2         Professional           Exempt  \n",
       "3         Professional       No License  \n",
       "4         Professional       No License  \n",
       "5         Professional       No License  \n",
       "6         Professional       No License  \n",
       "7         Professional       No License  \n",
       "8           Occasional       No License  \n",
       "9         Professional       No License  \n",
       "10        Professional       No License  \n",
       "11          Occasional       No License  \n",
       "12            Seasonal       No License  \n",
       "13          Occasional       No License  \n",
       "14          Occasional       No License  \n",
       "15        Professional           Exempt  \n",
       "16          Occasional       No License  \n",
       "17        Professional       No License  \n",
       "18          Occasional       No License  \n",
       "19          Occasional       No License  \n",
       "20          Occasional       No License  \n",
       "21          Occasional       No License  \n",
       "22          Occasional       No License  \n",
       "23          Occasional       No License  \n",
       "24          Occasional           Exempt  \n",
       "25          Occasional       No License  \n",
       "26          Occasional       No License  \n",
       "27          Occasional       No License  "
      ]
     },
     "execution_count": 20,
     "metadata": {},
     "output_type": "execute_result"
    }
   ],
   "source": [
    "# Observe entire data after data cleaning and transformation.\n",
    "NY_Airbnb.head(28)"
   ]
  },
  {
   "cell_type": "markdown",
   "metadata": {},
   "source": [
    "ANALYSIS & VISUALIZATIONS"
   ]
  },
  {
   "cell_type": "markdown",
   "metadata": {},
   "source": [
    "KPI's"
   ]
  },
  {
   "cell_type": "code",
   "execution_count": 44,
   "metadata": {},
   "outputs": [
    {
     "data": {
      "application/vnd.plotly.v1+json": {
       "config": {
        "plotlyServerURL": "https://plot.ly"
       },
       "data": [
        {
         "domain": {
          "x": [
           0,
           0.2888888888888889
          ],
          "y": [
           0.575,
           1
          ]
         },
         "mode": "number",
         "number": {
          "font": {
           "color": "#A7C957",
           "size": 50
          }
         },
         "title": {
          "font": {
           "color": "#132A13"
          },
          "text": "Total Listings"
         },
         "type": "indicator",
         "value": 20758
        },
        {
         "domain": {
          "x": [
           0.35555555555555557,
           0.6444444444444445
          ],
          "y": [
           0.575,
           1
          ]
         },
         "mode": "number",
         "number": {
          "font": {
           "color": "#A7C957",
           "size": 50
          }
         },
         "title": {
          "font": {
           "color": "#132A13"
          },
          "text": "Licensed Listings"
         },
         "type": "indicator",
         "value": 1054
        },
        {
         "domain": {
          "x": [
           0.7111111111111111,
           1
          ],
          "y": [
           0.575,
           1
          ]
         },
         "mode": "number",
         "number": {
          "font": {
           "color": "#A7C957",
           "size": 50
          }
         },
         "title": {
          "font": {
           "color": "#132A13"
          },
          "text": "Avg Price ($)"
         },
         "type": "indicator",
         "value": 187.77661624433952
        },
        {
         "domain": {
          "x": [
           0,
           0.2888888888888889
          ],
          "y": [
           0,
           0.425
          ]
         },
         "mode": "number",
         "number": {
          "font": {
           "color": "#A7C957",
           "size": 50
          }
         },
         "title": {
          "font": {
           "color": "#132A13"
          },
          "text": "Total Hosts"
         },
         "type": "indicator",
         "value": 12449
        },
        {
         "domain": {
          "x": [
           0.35555555555555557,
           0.6444444444444445
          ],
          "y": [
           0,
           0.425
          ]
         },
         "mode": "number",
         "number": {
          "font": {
           "color": "#A7C957",
           "size": 50
          }
         },
         "title": {
          "font": {
           "color": "#132A13"
          },
          "text": "Fully Available Listings"
         },
         "type": "indicator",
         "value": 2682
        },
        {
         "domain": {
          "x": [
           0.7111111111111111,
           1
          ],
          "y": [
           0,
           0.425
          ]
         },
         "mode": "number",
         "number": {
          "font": {
           "color": "#A7C957",
           "size": 50
          }
         },
         "title": {
          "font": {
           "color": "#132A13"
          },
          "text": "Most Common Room: Entire home/apt"
         },
         "type": "indicator",
         "value": 11549
        }
       ],
       "layout": {
        "height": 400,
        "paper_bgcolor": "#FDFFFC",
        "template": {
         "data": {
          "bar": [
           {
            "error_x": {
             "color": "#2a3f5f"
            },
            "error_y": {
             "color": "#2a3f5f"
            },
            "marker": {
             "line": {
              "color": "#E5ECF6",
              "width": 0.5
             },
             "pattern": {
              "fillmode": "overlay",
              "size": 10,
              "solidity": 0.2
             }
            },
            "type": "bar"
           }
          ],
          "barpolar": [
           {
            "marker": {
             "line": {
              "color": "#E5ECF6",
              "width": 0.5
             },
             "pattern": {
              "fillmode": "overlay",
              "size": 10,
              "solidity": 0.2
             }
            },
            "type": "barpolar"
           }
          ],
          "carpet": [
           {
            "aaxis": {
             "endlinecolor": "#2a3f5f",
             "gridcolor": "white",
             "linecolor": "white",
             "minorgridcolor": "white",
             "startlinecolor": "#2a3f5f"
            },
            "baxis": {
             "endlinecolor": "#2a3f5f",
             "gridcolor": "white",
             "linecolor": "white",
             "minorgridcolor": "white",
             "startlinecolor": "#2a3f5f"
            },
            "type": "carpet"
           }
          ],
          "choropleth": [
           {
            "colorbar": {
             "outlinewidth": 0,
             "ticks": ""
            },
            "type": "choropleth"
           }
          ],
          "contour": [
           {
            "colorbar": {
             "outlinewidth": 0,
             "ticks": ""
            },
            "colorscale": [
             [
              0,
              "#0d0887"
             ],
             [
              0.1111111111111111,
              "#46039f"
             ],
             [
              0.2222222222222222,
              "#7201a8"
             ],
             [
              0.3333333333333333,
              "#9c179e"
             ],
             [
              0.4444444444444444,
              "#bd3786"
             ],
             [
              0.5555555555555556,
              "#d8576b"
             ],
             [
              0.6666666666666666,
              "#ed7953"
             ],
             [
              0.7777777777777778,
              "#fb9f3a"
             ],
             [
              0.8888888888888888,
              "#fdca26"
             ],
             [
              1,
              "#f0f921"
             ]
            ],
            "type": "contour"
           }
          ],
          "contourcarpet": [
           {
            "colorbar": {
             "outlinewidth": 0,
             "ticks": ""
            },
            "type": "contourcarpet"
           }
          ],
          "heatmap": [
           {
            "colorbar": {
             "outlinewidth": 0,
             "ticks": ""
            },
            "colorscale": [
             [
              0,
              "#0d0887"
             ],
             [
              0.1111111111111111,
              "#46039f"
             ],
             [
              0.2222222222222222,
              "#7201a8"
             ],
             [
              0.3333333333333333,
              "#9c179e"
             ],
             [
              0.4444444444444444,
              "#bd3786"
             ],
             [
              0.5555555555555556,
              "#d8576b"
             ],
             [
              0.6666666666666666,
              "#ed7953"
             ],
             [
              0.7777777777777778,
              "#fb9f3a"
             ],
             [
              0.8888888888888888,
              "#fdca26"
             ],
             [
              1,
              "#f0f921"
             ]
            ],
            "type": "heatmap"
           }
          ],
          "heatmapgl": [
           {
            "colorbar": {
             "outlinewidth": 0,
             "ticks": ""
            },
            "colorscale": [
             [
              0,
              "#0d0887"
             ],
             [
              0.1111111111111111,
              "#46039f"
             ],
             [
              0.2222222222222222,
              "#7201a8"
             ],
             [
              0.3333333333333333,
              "#9c179e"
             ],
             [
              0.4444444444444444,
              "#bd3786"
             ],
             [
              0.5555555555555556,
              "#d8576b"
             ],
             [
              0.6666666666666666,
              "#ed7953"
             ],
             [
              0.7777777777777778,
              "#fb9f3a"
             ],
             [
              0.8888888888888888,
              "#fdca26"
             ],
             [
              1,
              "#f0f921"
             ]
            ],
            "type": "heatmapgl"
           }
          ],
          "histogram": [
           {
            "marker": {
             "pattern": {
              "fillmode": "overlay",
              "size": 10,
              "solidity": 0.2
             }
            },
            "type": "histogram"
           }
          ],
          "histogram2d": [
           {
            "colorbar": {
             "outlinewidth": 0,
             "ticks": ""
            },
            "colorscale": [
             [
              0,
              "#0d0887"
             ],
             [
              0.1111111111111111,
              "#46039f"
             ],
             [
              0.2222222222222222,
              "#7201a8"
             ],
             [
              0.3333333333333333,
              "#9c179e"
             ],
             [
              0.4444444444444444,
              "#bd3786"
             ],
             [
              0.5555555555555556,
              "#d8576b"
             ],
             [
              0.6666666666666666,
              "#ed7953"
             ],
             [
              0.7777777777777778,
              "#fb9f3a"
             ],
             [
              0.8888888888888888,
              "#fdca26"
             ],
             [
              1,
              "#f0f921"
             ]
            ],
            "type": "histogram2d"
           }
          ],
          "histogram2dcontour": [
           {
            "colorbar": {
             "outlinewidth": 0,
             "ticks": ""
            },
            "colorscale": [
             [
              0,
              "#0d0887"
             ],
             [
              0.1111111111111111,
              "#46039f"
             ],
             [
              0.2222222222222222,
              "#7201a8"
             ],
             [
              0.3333333333333333,
              "#9c179e"
             ],
             [
              0.4444444444444444,
              "#bd3786"
             ],
             [
              0.5555555555555556,
              "#d8576b"
             ],
             [
              0.6666666666666666,
              "#ed7953"
             ],
             [
              0.7777777777777778,
              "#fb9f3a"
             ],
             [
              0.8888888888888888,
              "#fdca26"
             ],
             [
              1,
              "#f0f921"
             ]
            ],
            "type": "histogram2dcontour"
           }
          ],
          "mesh3d": [
           {
            "colorbar": {
             "outlinewidth": 0,
             "ticks": ""
            },
            "type": "mesh3d"
           }
          ],
          "parcoords": [
           {
            "line": {
             "colorbar": {
              "outlinewidth": 0,
              "ticks": ""
             }
            },
            "type": "parcoords"
           }
          ],
          "pie": [
           {
            "automargin": true,
            "type": "pie"
           }
          ],
          "scatter": [
           {
            "fillpattern": {
             "fillmode": "overlay",
             "size": 10,
             "solidity": 0.2
            },
            "type": "scatter"
           }
          ],
          "scatter3d": [
           {
            "line": {
             "colorbar": {
              "outlinewidth": 0,
              "ticks": ""
             }
            },
            "marker": {
             "colorbar": {
              "outlinewidth": 0,
              "ticks": ""
             }
            },
            "type": "scatter3d"
           }
          ],
          "scattercarpet": [
           {
            "marker": {
             "colorbar": {
              "outlinewidth": 0,
              "ticks": ""
             }
            },
            "type": "scattercarpet"
           }
          ],
          "scattergeo": [
           {
            "marker": {
             "colorbar": {
              "outlinewidth": 0,
              "ticks": ""
             }
            },
            "type": "scattergeo"
           }
          ],
          "scattergl": [
           {
            "marker": {
             "colorbar": {
              "outlinewidth": 0,
              "ticks": ""
             }
            },
            "type": "scattergl"
           }
          ],
          "scattermapbox": [
           {
            "marker": {
             "colorbar": {
              "outlinewidth": 0,
              "ticks": ""
             }
            },
            "type": "scattermapbox"
           }
          ],
          "scatterpolar": [
           {
            "marker": {
             "colorbar": {
              "outlinewidth": 0,
              "ticks": ""
             }
            },
            "type": "scatterpolar"
           }
          ],
          "scatterpolargl": [
           {
            "marker": {
             "colorbar": {
              "outlinewidth": 0,
              "ticks": ""
             }
            },
            "type": "scatterpolargl"
           }
          ],
          "scatterternary": [
           {
            "marker": {
             "colorbar": {
              "outlinewidth": 0,
              "ticks": ""
             }
            },
            "type": "scatterternary"
           }
          ],
          "surface": [
           {
            "colorbar": {
             "outlinewidth": 0,
             "ticks": ""
            },
            "colorscale": [
             [
              0,
              "#0d0887"
             ],
             [
              0.1111111111111111,
              "#46039f"
             ],
             [
              0.2222222222222222,
              "#7201a8"
             ],
             [
              0.3333333333333333,
              "#9c179e"
             ],
             [
              0.4444444444444444,
              "#bd3786"
             ],
             [
              0.5555555555555556,
              "#d8576b"
             ],
             [
              0.6666666666666666,
              "#ed7953"
             ],
             [
              0.7777777777777778,
              "#fb9f3a"
             ],
             [
              0.8888888888888888,
              "#fdca26"
             ],
             [
              1,
              "#f0f921"
             ]
            ],
            "type": "surface"
           }
          ],
          "table": [
           {
            "cells": {
             "fill": {
              "color": "#EBF0F8"
             },
             "line": {
              "color": "white"
             }
            },
            "header": {
             "fill": {
              "color": "#C8D4E3"
             },
             "line": {
              "color": "white"
             }
            },
            "type": "table"
           }
          ]
         },
         "layout": {
          "annotationdefaults": {
           "arrowcolor": "#2a3f5f",
           "arrowhead": 0,
           "arrowwidth": 1
          },
          "autotypenumbers": "strict",
          "coloraxis": {
           "colorbar": {
            "outlinewidth": 0,
            "ticks": ""
           }
          },
          "colorscale": {
           "diverging": [
            [
             0,
             "#8e0152"
            ],
            [
             0.1,
             "#c51b7d"
            ],
            [
             0.2,
             "#de77ae"
            ],
            [
             0.3,
             "#f1b6da"
            ],
            [
             0.4,
             "#fde0ef"
            ],
            [
             0.5,
             "#f7f7f7"
            ],
            [
             0.6,
             "#e6f5d0"
            ],
            [
             0.7,
             "#b8e186"
            ],
            [
             0.8,
             "#7fbc41"
            ],
            [
             0.9,
             "#4d9221"
            ],
            [
             1,
             "#276419"
            ]
           ],
           "sequential": [
            [
             0,
             "#0d0887"
            ],
            [
             0.1111111111111111,
             "#46039f"
            ],
            [
             0.2222222222222222,
             "#7201a8"
            ],
            [
             0.3333333333333333,
             "#9c179e"
            ],
            [
             0.4444444444444444,
             "#bd3786"
            ],
            [
             0.5555555555555556,
             "#d8576b"
            ],
            [
             0.6666666666666666,
             "#ed7953"
            ],
            [
             0.7777777777777778,
             "#fb9f3a"
            ],
            [
             0.8888888888888888,
             "#fdca26"
            ],
            [
             1,
             "#f0f921"
            ]
           ],
           "sequentialminus": [
            [
             0,
             "#0d0887"
            ],
            [
             0.1111111111111111,
             "#46039f"
            ],
            [
             0.2222222222222222,
             "#7201a8"
            ],
            [
             0.3333333333333333,
             "#9c179e"
            ],
            [
             0.4444444444444444,
             "#bd3786"
            ],
            [
             0.5555555555555556,
             "#d8576b"
            ],
            [
             0.6666666666666666,
             "#ed7953"
            ],
            [
             0.7777777777777778,
             "#fb9f3a"
            ],
            [
             0.8888888888888888,
             "#fdca26"
            ],
            [
             1,
             "#f0f921"
            ]
           ]
          },
          "colorway": [
           "#636efa",
           "#EF553B",
           "#00cc96",
           "#ab63fa",
           "#FFA15A",
           "#19d3f3",
           "#FF6692",
           "#B6E880",
           "#FF97FF",
           "#FECB52"
          ],
          "font": {
           "color": "#2a3f5f"
          },
          "geo": {
           "bgcolor": "white",
           "lakecolor": "white",
           "landcolor": "#E5ECF6",
           "showlakes": true,
           "showland": true,
           "subunitcolor": "white"
          },
          "hoverlabel": {
           "align": "left"
          },
          "hovermode": "closest",
          "mapbox": {
           "style": "light"
          },
          "paper_bgcolor": "white",
          "plot_bgcolor": "#E5ECF6",
          "polar": {
           "angularaxis": {
            "gridcolor": "white",
            "linecolor": "white",
            "ticks": ""
           },
           "bgcolor": "#E5ECF6",
           "radialaxis": {
            "gridcolor": "white",
            "linecolor": "white",
            "ticks": ""
           }
          },
          "scene": {
           "xaxis": {
            "backgroundcolor": "#E5ECF6",
            "gridcolor": "white",
            "gridwidth": 2,
            "linecolor": "white",
            "showbackground": true,
            "ticks": "",
            "zerolinecolor": "white"
           },
           "yaxis": {
            "backgroundcolor": "#E5ECF6",
            "gridcolor": "white",
            "gridwidth": 2,
            "linecolor": "white",
            "showbackground": true,
            "ticks": "",
            "zerolinecolor": "white"
           },
           "zaxis": {
            "backgroundcolor": "#E5ECF6",
            "gridcolor": "white",
            "gridwidth": 2,
            "linecolor": "white",
            "showbackground": true,
            "ticks": "",
            "zerolinecolor": "white"
           }
          },
          "shapedefaults": {
           "line": {
            "color": "#2a3f5f"
           }
          },
          "ternary": {
           "aaxis": {
            "gridcolor": "white",
            "linecolor": "white",
            "ticks": ""
           },
           "baxis": {
            "gridcolor": "white",
            "linecolor": "white",
            "ticks": ""
           },
           "bgcolor": "#E5ECF6",
           "caxis": {
            "gridcolor": "white",
            "linecolor": "white",
            "ticks": ""
           }
          },
          "title": {
           "x": 0.05
          },
          "xaxis": {
           "automargin": true,
           "gridcolor": "white",
           "linecolor": "white",
           "ticks": "",
           "title": {
            "standoff": 15
           },
           "zerolinecolor": "white",
           "zerolinewidth": 2
          },
          "yaxis": {
           "automargin": true,
           "gridcolor": "white",
           "linecolor": "white",
           "ticks": "",
           "title": {
            "standoff": 15
           },
           "zerolinecolor": "white",
           "zerolinewidth": 2
          }
         }
        },
        "width": 900
       }
      }
     },
     "metadata": {},
     "output_type": "display_data"
    }
   ],
   "source": [
    "import plotly.graph_objects as go               # Import library to plot visuals, Eg: Card visuals.\n",
    "from plotly.subplots import make_subplots\n",
    "\n",
    "# Define KPI values.\n",
    "total_listings = NY_Airbnb['id'].nunique()\n",
    "licensed_listings = NY_Airbnb[NY_Airbnb['license_category'] == 'OSE License'].shape[0]\n",
    "avg_price = NY_Airbnb['price'].mean()\n",
    "total_hosts = NY_Airbnb['host_id'].nunique()\n",
    "##avg_reviews = NY_Airbnb['number_of_reviews'].mean()\n",
    "fully_available_listings = NY_Airbnb[NY_Airbnb['availability_365'] == 365].shape[0]\n",
    "\n",
    "# Define the most common room type KPI.\n",
    "room_counts = NY_Airbnb['room_type'].value_counts()\n",
    "most_common_room = room_counts.idxmax()\n",
    "most_common_room_count = room_counts.max()\n",
    "\n",
    "# Create a grid KPI layout for the cards.\n",
    "fig= make_subplots(\n",
    "    rows= 2, cols= 3, \n",
    "    ##subplot_titles= ['Total Listings', 'Licensed Listings', 'Avg Price ($)', \n",
    "                     ##'Total Hosts', 'Fully Available Listings', 'Most Common Room'],      # Having this with each individual card titles creates double titles.\n",
    "    specs= [[{'type': 'indicator'}, {'type': 'indicator'}, {'type': 'indicator'}],\n",
    "            [{'type': 'indicator'}, {'type': 'indicator'}, {'type': 'indicator'}]]\n",
    ")\n",
    "\n",
    "# Create custom colors.\n",
    "background_color = '#FDFFFC'\n",
    "title_color = '#132A13'\n",
    "number_color = '#A7C957'\n",
    "\n",
    "# Add indicators (cards) with custom colors.\n",
    "fig.add_trace(go.Indicator(\n",
    "    mode= 'number',\n",
    "    value= total_listings,\n",
    "    title= {'text': 'Total Listings', 'font': {'color': title_color}},\n",
    "    number= {'font': {'size': 50, 'color': number_color}}),\n",
    "    row= 1, col= 1)                                                           # Card visual for Total listings.\n",
    "\n",
    "fig.add_trace(go.Indicator(\n",
    "    mode= 'number',\n",
    "    value= licensed_listings,\n",
    "    title= {'text': 'Licensed Listings', 'font': {'color': title_color}},\n",
    "    number= {'font': {'size': 50, 'color': number_color}}),\n",
    "    row= 1, col= 2)                                                          # Card visual for Licensed listings.\n",
    "\n",
    "fig.add_trace(go.Indicator(\n",
    "    mode= 'number',\n",
    "    value= avg_price,\n",
    "    title= {'text': 'Avg Price ($)', 'font': {'color': title_color}},\n",
    "    number= {'font': {'size': 50, 'color': number_color}}),\n",
    "    row= 1, col= 3)                                                          # Card visual for Average price.\n",
    "\n",
    "fig.add_trace(go.Indicator(\n",
    "    mode= 'number',\n",
    "    value= total_hosts,\n",
    "    title= {'text': 'Total Hosts', 'font': {'color': title_color}},\n",
    "    number= {'font': {'size': 50, 'color': number_color}}),\n",
    "    row= 2, col= 1)                                                          # Card visual for Total hosts.\n",
    "\n",
    "##fig.add_trace(go.Indicator(\n",
    "    ##mode= 'number',\n",
    "    ##value= avg_reviews,\n",
    "    ##title= {'text': 'Avg Reviews'}))                                        # Card visual for Average reviews.\n",
    "\n",
    "fig.add_trace(go.Indicator(\n",
    "    mode= 'number',\n",
    "    value= fully_available_listings,\n",
    "    title= {'text': 'Fully Available Listings', 'font': {'color': title_color}},\n",
    "    number= {'font': {'size': 50, 'color': number_color}}),\n",
    "    row= 2, col= 2)                                                         # Card visual for Fully available listings.\n",
    "\n",
    "fig.add_trace(go.Indicator(\n",
    "    mode= 'number',\n",
    "    value= most_common_room_count,\n",
    "    title= {'text': f\"Most Common Room: {most_common_room}\", 'font': {'color': title_color}},\n",
    "    number= {'font': {'size': 50, 'color': number_color}}),\n",
    "    row= 2, col= 3)                                                          # Card visual for Most common room.\n",
    "\n",
    "# Adjust layout settings\n",
    "fig.update_layout(\n",
    "    height= 400, \n",
    "    width= 900,\n",
    "    paper_bgcolor= background_color)\n",
    "\n",
    "fig.show()                          # Display visuals."
   ]
  },
  {
   "cell_type": "markdown",
   "metadata": {},
   "source": [
    "Location & Geographic Insights"
   ]
  },
  {
   "cell_type": "code",
   "execution_count": 46,
   "metadata": {},
   "outputs": [
    {
     "data": {
      "text/plain": [
       "<Figure size 1000x600 with 0 Axes>"
      ]
     },
     "metadata": {},
     "output_type": "display_data"
    },
    {
     "data": {
      "image/png": "[encoded data removed]",
      "text/plain": [
       "<Figure size 1000x600 with 1 Axes>"
      ]
     },
     "metadata": {},
     "output_type": "display_data"
    }
   ],
   "source": [
    "# Number of listings by room type, for each borough. \n",
    "sum_of_listings = NY_Airbnb.groupby(['borough','room_type'])['number_of_host_listings'].count().reset_index()\n",
    "custom_color = ['#132A13', '#4F772D', '#A7C957', '#D3D3D3']         # Create custom color for chart.\n",
    "plt.figure(figsize= (10, 6))\n",
    "ax = sns.barplot(x= 'borough',\n",
    "            y= 'number_of_host_listings',\n",
    "            hue= 'room_type',\n",
    "            data= sum_of_listings,\n",
    "            palette= custom_color,\n",
    "            errorbar= None)\n",
    "\n",
    "# Add values above each bars\n",
    "for bars in ax.containers:\n",
    "    ax.bar_label(bars, fmt= '%.0f', label_type= 'edge', padding= 5, fontsize= 12, color= 'black')\n",
    "\n",
    "# Hide Y-axis values\n",
    "ax.set_yticks([])\n",
    "\n",
    "# Customize chart\n",
    "plt.title('Listings of Room Type by Borough')\n",
    "plt.xlabel('Borough')\n",
    "plt.ylabel('Number of Listings')\n",
    "plt.legend(title= 'Room Type')\n",
    "plt.xticks(rotation= 90)\n",
    "\n",
    "plt.show()"
   ]
  },
  {
   "cell_type": "code",
   "execution_count": 23,
   "metadata": {},
   "outputs": [],
   "source": [
    "# Install the folium package to display interactive map\n",
    "##%pip install folium   "
   ]
  },
  {
   "cell_type": "code",
   "execution_count": 24,
   "metadata": {},
   "outputs": [],
   "source": [
    "# Check if folium is installed\n",
    "##!pip show folium"
   ]
  },
  {
   "cell_type": "code",
   "execution_count": 34,
   "metadata": {},
   "outputs": [
    {
     "data": {
      "text/html": [
       "<div style=\"width:100%;\"><div style=\"position:relative;width:100%;height:0;padding-bottom:60%;\"><span style=\"color:#565656\">Make this Notebook Trusted to load map: File -> Trust Notebook</span><iframe srcdoc=\"&lt;!DOCTYPE html&gt;\n",
       "&lt;html&gt;\n",
       "&lt;head&gt;\n",
       "    \n",
       "    &lt;meta http-equiv=&quot;content-type&quot; content=&quot;text/html; charset=UTF-8&quot; /&gt;\n",
       "    \n",
       "        &lt;script&gt;\n",
       "            L_NO_TOUCH = false;\n",
       "            L_DISABLE_3D = false;\n",
       "        &lt;/script&gt;\n",
       "    \n",
       "    &lt;style&gt;html, body {width: 100%;height: 100%;margin: 0;padding: 0;}&lt;/style&gt;\n",
       "    &lt;style&gt;#map {position:absolute;top:0;bottom:0;right:0;left:0;}&lt;/style&gt;\n",
       "    &lt;script src=&quot;https://cdn.jsdelivr.net/npm/leaflet@1.9.3/dist/leaflet.js&quot;&gt;&lt;/script&gt;\n",
       "    &lt;script src=&quot;https://code.jquery.com/jquery-3.7.1.min.js&quot;&gt;&lt;/script&gt;\n",
       "    &lt;script src=&quot;https://cdn.jsdelivr.net/npm/bootstrap@5.2.2/dist/js/bootstrap.bundle.min.js&quot;&gt;&lt;/script&gt;\n",
       "    &lt;script src=&quot;https://cdnjs.cloudflare.com/ajax/libs/Leaflet.awesome-markers/2.0.2/leaflet.awesome-markers.js&quot;&gt;&lt;/script&gt;\n",
       "    &lt;link rel=&quot;stylesheet&quot; href=&quot;https://cdn.jsdelivr.net/npm/leaflet@1.9.3/dist/leaflet.css&quot;/&gt;\n",
       "    &lt;link rel=&quot;stylesheet&quot; href=&quot;https://cdn.jsdelivr.net/npm/bootstrap@5.2.2/dist/css/bootstrap.min.css&quot;/&gt;\n",
       "    &lt;link rel=&quot;stylesheet&quot; href=&quot;https://netdna.bootstrapcdn.com/bootstrap/3.0.0/css/bootstrap-glyphicons.css&quot;/&gt;\n",
       "    &lt;link rel=&quot;stylesheet&quot; href=&quot;https://cdn.jsdelivr.net/npm/@fortawesome/fontawesome-free@6.2.0/css/all.min.css&quot;/&gt;\n",
       "    &lt;link rel=&quot;stylesheet&quot; href=&quot;https://cdnjs.cloudflare.com/ajax/libs/Leaflet.awesome-markers/2.0.2/leaflet.awesome-markers.css&quot;/&gt;\n",
       "    &lt;link rel=&quot;stylesheet&quot; href=&quot;https://cdn.jsdelivr.net/gh/python-visualization/folium/folium/templates/leaflet.awesome.rotate.min.css&quot;/&gt;\n",
       "    \n",
       "            &lt;meta name=&quot;viewport&quot; content=&quot;width=device-width,\n",
       "                initial-scale=1.0, maximum-scale=1.0, user-scalable=no&quot; /&gt;\n",
       "            &lt;style&gt;\n",
       "                #map_43ea00f5d5dffabb774c56c4791edbe0 {\n",
       "                    position: relative;\n",
       "                    width: 100.0%;\n",
       "                    height: 100.0%;\n",
       "                    left: 0.0%;\n",
       "                    top: 0.0%;\n",
       "                }\n",
       "                .leaflet-container { font-size: 1rem; }\n",
       "            &lt;/style&gt;\n",
       "        \n",
       "&lt;/head&gt;\n",
       "&lt;body&gt;\n",
       "    \n",
       "    \n",
       "            &lt;div class=&quot;folium-map&quot; id=&quot;map_43ea00f5d5dffabb774c56c4791edbe0&quot; &gt;&lt;/div&gt;\n",
       "        \n",
       "&lt;/body&gt;\n",
       "&lt;script&gt;\n",
       "    \n",
       "    \n",
       "            var map_43ea00f5d5dffabb774c56c4791edbe0 = L.map(\n",
       "                &quot;map_43ea00f5d5dffabb774c56c4791edbe0&quot;,\n",
       "                {\n",
       "                    center: [40.7128, -74.006],\n",
       "                    crs: L.CRS.EPSG3857,\n",
       "                    ...{\n",
       "  &quot;zoom&quot;: 11,\n",
       "  &quot;zoomControl&quot;: true,\n",
       "  &quot;preferCanvas&quot;: false,\n",
       "}\n",
       "\n",
       "                }\n",
       "            );\n",
       "\n",
       "            \n",
       "\n",
       "        \n",
       "    \n",
       "            var tile_layer_1cde0a33fd74474152bce79829569888 = L.tileLayer(\n",
       "                &quot;https://tile.openstreetmap.org/{z}/{x}/{y}.png&quot;,\n",
       "                {\n",
       "  &quot;minZoom&quot;: 0,\n",
       "  &quot;maxZoom&quot;: 19,\n",
       "  &quot;maxNativeZoom&quot;: 19,\n",
       "  &quot;noWrap&quot;: false,\n",
       "  &quot;attribution&quot;: &quot;\\u0026copy; \\u003ca href=\\&quot;https://www.openstreetmap.org/copyright\\&quot;\\u003eOpenStreetMap\\u003c/a\\u003e contributors&quot;,\n",
       "  &quot;subdomains&quot;: &quot;abc&quot;,\n",
       "  &quot;detectRetina&quot;: false,\n",
       "  &quot;tms&quot;: false,\n",
       "  &quot;opacity&quot;: 1,\n",
       "}\n",
       "\n",
       "            );\n",
       "        \n",
       "    \n",
       "            tile_layer_1cde0a33fd74474152bce79829569888.addTo(map_43ea00f5d5dffabb774c56c4791edbe0);\n",
       "        \n",
       "    \n",
       "            var circle_marker_cbbd3e68b22a95e32ab61370b7da1a84 = L.circleMarker(\n",
       "                [40.85045329197129, -73.87982166908391],\n",
       "                {&quot;bubblingMouseEvents&quot;: true, &quot;color&quot;: &quot;green&quot;, &quot;dashArray&quot;: null, &quot;dashOffset&quot;: null, &quot;fill&quot;: true, &quot;fillColor&quot;: &quot;green&quot;, &quot;fillOpacity&quot;: 0.6, &quot;fillRule&quot;: &quot;evenodd&quot;, &quot;lineCap&quot;: &quot;round&quot;, &quot;lineJoin&quot;: &quot;round&quot;, &quot;opacity&quot;: 1.0, &quot;radius&quot;: 10, &quot;stroke&quot;: true, &quot;weight&quot;: 3}\n",
       "            ).addTo(map_43ea00f5d5dffabb774c56c4791edbe0);\n",
       "        \n",
       "    \n",
       "        var popup_9d1d15c0f7861507433fd34e60e6a9ac = L.popup({\n",
       "  &quot;maxWidth&quot;: &quot;100%&quot;,\n",
       "});\n",
       "\n",
       "        \n",
       "            \n",
       "                var html_998dcbebe2259a54d56bb2125b28cc5c = $(`&lt;div id=&quot;html_998dcbebe2259a54d56bb2125b28cc5c&quot; style=&quot;width: 100.0%; height: 100.0%;&quot;&gt;Bronx: $118.41&lt;/div&gt;`)[0];\n",
       "                popup_9d1d15c0f7861507433fd34e60e6a9ac.setContent(html_998dcbebe2259a54d56bb2125b28cc5c);\n",
       "            \n",
       "        \n",
       "\n",
       "        circle_marker_cbbd3e68b22a95e32ab61370b7da1a84.bindPopup(popup_9d1d15c0f7861507433fd34e60e6a9ac)\n",
       "        ;\n",
       "\n",
       "        \n",
       "    \n",
       "    \n",
       "            var circle_marker_784d5bac77f4bf287b633493a300759a = L.circleMarker(\n",
       "                [40.67763335851226, -73.94634604715176],\n",
       "                {&quot;bubblingMouseEvents&quot;: true, &quot;color&quot;: &quot;green&quot;, &quot;dashArray&quot;: null, &quot;dashOffset&quot;: null, &quot;fill&quot;: true, &quot;fillColor&quot;: &quot;green&quot;, &quot;fillOpacity&quot;: 0.6, &quot;fillRule&quot;: &quot;evenodd&quot;, &quot;lineCap&quot;: &quot;round&quot;, &quot;lineJoin&quot;: &quot;round&quot;, &quot;opacity&quot;: 1.0, &quot;radius&quot;: 10, &quot;stroke&quot;: true, &quot;weight&quot;: 3}\n",
       "            ).addTo(map_43ea00f5d5dffabb774c56c4791edbe0);\n",
       "        \n",
       "    \n",
       "        var popup_d5ae898c35e7f1268ffd060ae17b0fa9 = L.popup({\n",
       "  &quot;maxWidth&quot;: &quot;100%&quot;,\n",
       "});\n",
       "\n",
       "        \n",
       "            \n",
       "                var html_c08608d581daebdec46307940d4b164d = $(`&lt;div id=&quot;html_c08608d581daebdec46307940d4b164d&quot; style=&quot;width: 100.0%; height: 100.0%;&quot;&gt;Brooklyn: $187.03&lt;/div&gt;`)[0];\n",
       "                popup_d5ae898c35e7f1268ffd060ae17b0fa9.setContent(html_c08608d581daebdec46307940d4b164d);\n",
       "            \n",
       "        \n",
       "\n",
       "        circle_marker_784d5bac77f4bf287b633493a300759a.bindPopup(popup_d5ae898c35e7f1268ffd060ae17b0fa9)\n",
       "        ;\n",
       "\n",
       "        \n",
       "    \n",
       "    \n",
       "            var circle_marker_799a3fc513474f0216c8be8ff92abcb9 = L.circleMarker(\n",
       "                [40.765898425502584, -73.97425753323657],\n",
       "                {&quot;bubblingMouseEvents&quot;: true, &quot;color&quot;: &quot;green&quot;, &quot;dashArray&quot;: null, &quot;dashOffset&quot;: null, &quot;fill&quot;: true, &quot;fillColor&quot;: &quot;green&quot;, &quot;fillOpacity&quot;: 0.6, &quot;fillRule&quot;: &quot;evenodd&quot;, &quot;lineCap&quot;: &quot;round&quot;, &quot;lineJoin&quot;: &quot;round&quot;, &quot;opacity&quot;: 1.0, &quot;radius&quot;: 10, &quot;stroke&quot;: true, &quot;weight&quot;: 3}\n",
       "            ).addTo(map_43ea00f5d5dffabb774c56c4791edbe0);\n",
       "        \n",
       "    \n",
       "        var popup_2128c540bfc9bd36bb6e3b7ed0d0e2c4 = L.popup({\n",
       "  &quot;maxWidth&quot;: &quot;100%&quot;,\n",
       "});\n",
       "\n",
       "        \n",
       "            \n",
       "                var html_4e92a540195158d31c838fda8145de1f = $(`&lt;div id=&quot;html_4e92a540195158d31c838fda8145de1f&quot; style=&quot;width: 100.0%; height: 100.0%;&quot;&gt;Manhattan: $227.85&lt;/div&gt;`)[0];\n",
       "                popup_2128c540bfc9bd36bb6e3b7ed0d0e2c4.setContent(html_4e92a540195158d31c838fda8145de1f);\n",
       "            \n",
       "        \n",
       "\n",
       "        circle_marker_799a3fc513474f0216c8be8ff92abcb9.bindPopup(popup_2128c540bfc9bd36bb6e3b7ed0d0e2c4)\n",
       "        ;\n",
       "\n",
       "        \n",
       "    \n",
       "    \n",
       "            var circle_marker_295b186b730605709141ef5e5159374a = L.circleMarker(\n",
       "                [40.722009434756345, -73.85098164399221],\n",
       "                {&quot;bubblingMouseEvents&quot;: true, &quot;color&quot;: &quot;green&quot;, &quot;dashArray&quot;: null, &quot;dashOffset&quot;: null, &quot;fill&quot;: true, &quot;fillColor&quot;: &quot;green&quot;, &quot;fillOpacity&quot;: 0.6, &quot;fillRule&quot;: &quot;evenodd&quot;, &quot;lineCap&quot;: &quot;round&quot;, &quot;lineJoin&quot;: &quot;round&quot;, &quot;opacity&quot;: 1.0, &quot;radius&quot;: 10, &quot;stroke&quot;: true, &quot;weight&quot;: 3}\n",
       "            ).addTo(map_43ea00f5d5dffabb774c56c4791edbe0);\n",
       "        \n",
       "    \n",
       "        var popup_1a62127697cae4b34d3e8daa3309780b = L.popup({\n",
       "  &quot;maxWidth&quot;: &quot;100%&quot;,\n",
       "});\n",
       "\n",
       "        \n",
       "            \n",
       "                var html_0df6167b5d7775b624bceeb9409cf6d2 = $(`&lt;div id=&quot;html_0df6167b5d7775b624bceeb9409cf6d2&quot; style=&quot;width: 100.0%; height: 100.0%;&quot;&gt;Queens: $126.49&lt;/div&gt;`)[0];\n",
       "                popup_1a62127697cae4b34d3e8daa3309780b.setContent(html_0df6167b5d7775b624bceeb9409cf6d2);\n",
       "            \n",
       "        \n",
       "\n",
       "        circle_marker_295b186b730605709141ef5e5159374a.bindPopup(popup_1a62127697cae4b34d3e8daa3309780b)\n",
       "        ;\n",
       "\n",
       "        \n",
       "    \n",
       "    \n",
       "            var circle_marker_2cf5aa3e64870a702037528d510374de = L.circleMarker(\n",
       "                [40.609543479924895, -74.1123405020541],\n",
       "                {&quot;bubblingMouseEvents&quot;: true, &quot;color&quot;: &quot;green&quot;, &quot;dashArray&quot;: null, &quot;dashOffset&quot;: null, &quot;fill&quot;: true, &quot;fillColor&quot;: &quot;green&quot;, &quot;fillOpacity&quot;: 0.6, &quot;fillRule&quot;: &quot;evenodd&quot;, &quot;lineCap&quot;: &quot;round&quot;, &quot;lineJoin&quot;: &quot;round&quot;, &quot;opacity&quot;: 1.0, &quot;radius&quot;: 10, &quot;stroke&quot;: true, &quot;weight&quot;: 3}\n",
       "            ).addTo(map_43ea00f5d5dffabb774c56c4791edbe0);\n",
       "        \n",
       "    \n",
       "        var popup_6536ac21c9b570fc77435ae7ce13ed6c = L.popup({\n",
       "  &quot;maxWidth&quot;: &quot;100%&quot;,\n",
       "});\n",
       "\n",
       "        \n",
       "            \n",
       "                var html_f6e48595c1e4ed5d357c0dba20800ee4 = $(`&lt;div id=&quot;html_f6e48595c1e4ed5d357c0dba20800ee4&quot; style=&quot;width: 100.0%; height: 100.0%;&quot;&gt;Staten Island: $118.78&lt;/div&gt;`)[0];\n",
       "                popup_6536ac21c9b570fc77435ae7ce13ed6c.setContent(html_f6e48595c1e4ed5d357c0dba20800ee4);\n",
       "            \n",
       "        \n",
       "\n",
       "        circle_marker_2cf5aa3e64870a702037528d510374de.bindPopup(popup_6536ac21c9b570fc77435ae7ce13ed6c)\n",
       "        ;\n",
       "\n",
       "        \n",
       "    \n",
       "&lt;/script&gt;\n",
       "&lt;/html&gt;\" style=\"position:absolute;width:100%;height:100%;left:0;top:0;border:none !important;\" allowfullscreen webkitallowfullscreen mozallowfullscreen></iframe></div></div>"
      ],
      "text/plain": [
       "<folium.folium.Map at 0x164ee68bbd0>"
      ]
     },
     "execution_count": 34,
     "metadata": {},
     "output_type": "execute_result"
    }
   ],
   "source": [
    "# Display the average price of listings in each borough.\n",
    "\n",
    "# Import the folium library to create interactive maps\n",
    "import folium \n",
    "\n",
    "# Group by borough to calculate average price, latitude and longitude.\n",
    "borough_avg_price = NY_Airbnb.groupby('borough', as_index= False).agg({\n",
    "                                                                    'price': 'mean',\n",
    "                                                                    'latitude': 'mean',\n",
    "                                                                    'longitude': 'mean'})\n",
    "\n",
    "# Create a folium map for each borough in New York.\n",
    "borough_map = folium.Map(location= [40.7128, -74.0060], zoom_start= 11)\n",
    "\n",
    "# Add markers for each borough with average prive.              # NB: This is another method of plotting the map.\n",
    "#for _, row in borough_calc.iterrows():\n",
    "    #borough = row['borough']\n",
    "    #avg_price = row['price']\n",
    "    #lat, lon = row['latitude'], row['longitude']\n",
    "\n",
    "    #folium.Marker(\n",
    "        #location = [lat, lon],\n",
    "        #popup = f\"{borough}: ${avg_price: 2f}\",         # Show price when clicked.\n",
    "        #tooltip = f\"Avg Price: ${avg_price: 2f}\",       # Show price when you hover.\n",
    "        #icon = folium.Icon(color= \"blue\", icon= \"info-sign\")\n",
    "    #).add_to(borough_map)\n",
    "\n",
    "# Add circle markers for each borough\n",
    "for _, row in borough_avg_price.iterrows():\n",
    "    folium.CircleMarker(\n",
    "        location= [row['latitude'], row['longitude']],\n",
    "        radius= 10,             # Adjust price.\n",
    "        color= 'green',\n",
    "        fill= True,\n",
    "        fill_color= 'green',\n",
    "        fill_opacity= 0.6,\n",
    "        popup= f\"{row['borough']}: ${row['price']:.2f}\"         # Show price when clicked.\n",
    "    ).add_to(borough_map)\n",
    "\n",
    "# Display map.\n",
    "borough_map"
   ]
  },
  {
   "cell_type": "markdown",
   "metadata": {},
   "source": [
    "License Distribution"
   ]
  },
  {
   "cell_type": "code",
   "execution_count": 26,
   "metadata": {},
   "outputs": [
    {
     "data": {
      "image/png": "[encoded data removed]",
      "text/plain": [
       "<Figure size 800x500 with 1 Axes>"
      ]
     },
     "metadata": {},
     "output_type": "display_data"
    }
   ],
   "source": [
    "# Group abd calculate the average price by license.\n",
    "avg_price_by_license = NY_Airbnb.groupby('license_category')['price'].mean().reset_index()\n",
    "avg_price_by_license['price'] = avg_price_by_license['price'].round(2)  # Approximate to 2 decimal place for readability.\n",
    "\n",
    "\n",
    "# Create a chart of the average price by license_category.\n",
    "custom_color = ['#132A13', '#4F772D', '#A7C957']         # Create custom color for chart.\n",
    "plt.figure(figsize= (8, 5))\n",
    "sns.barplot(data= avg_price_by_license,\n",
    "            x= 'license_category',\n",
    "            y= 'price',\n",
    "            palette= custom_color)\n",
    "\n",
    "# Customize chart to add labels and title.\n",
    "plt.title('Average Price by License Status')\n",
    "plt.xlabel('License Status')\n",
    "plt.ylabel('Average Price ($)')\n",
    "plt.xticks(rotation= 90)\n",
    "\n",
    "# Hide Y-axis values.\n",
    "plt.yticks([])\n",
    "\n",
    "# Show values on top each bars.\n",
    "for index, row in avg_price_by_license.iterrows():\n",
    "    plt.text(index, row['price'], f\"${row['price']:.2f}\", ha= 'center', va= 'bottom')\n",
    "\n",
    "plt.show()"
   ]
  },
  {
   "cell_type": "code",
   "execution_count": 27,
   "metadata": {},
   "outputs": [
    {
     "data": {
      "image/png": "[encoded data removed]",
      "text/plain": [
       "<Figure size 600x600 with 1 Axes>"
      ]
     },
     "metadata": {},
     "output_type": "display_data"
    }
   ],
   "source": [
    "# Calculate the percentage of listings for each license category.\n",
    "license_counts = NY_Airbnb['license_category'].value_counts(normalize = True) * 100\n",
    "\n",
    "# Create a chart to show the percentage of listings by license category.\n",
    "custom_color = ['#132A13', '#4F772D', '#A7C957']         # Create custom color for chart.\n",
    "plt.figure(figsize= (6, 6))\n",
    "wedges, texts, autotexts = plt.pie(license_counts,\n",
    "                                    labels= license_counts.index,               # Keep category labels visible.\n",
    "                                    autopct= lambda p: f\"{p:.1f}%\", \n",
    "                                    colors= sns.color_palette(custom_color),\n",
    "                                    textprops= {'fontsize': 12, 'fontweight': 'bold'})  # Keep labels black.\n",
    "# Make only percentage values color white.\n",
    "for autotext in autotexts:\n",
    "    autotext.set_color('white')\n",
    "\n",
    "# Customize & display chart.\n",
    "plt.title('Percentage of Listings by License Category')\n",
    "plt.show()"
   ]
  },
  {
   "cell_type": "markdown",
   "metadata": {},
   "source": [
    "Room & Property Insight"
   ]
  },
  {
   "cell_type": "code",
   "execution_count": 28,
   "metadata": {},
   "outputs": [
    {
     "data": {
      "image/png": "[encoded data removed]",
      "text/plain": [
       "<Figure size 700x600 with 1 Axes>"
      ]
     },
     "metadata": {},
     "output_type": "display_data"
    }
   ],
   "source": [
    "# Calculate the average number of bedrooms, baths and beds.\n",
    "avg_bedrooms_bath_bed = NY_Airbnb[['bedrooms', 'baths', 'beds']].mean()\n",
    "\n",
    "# Create a chart that shows average number of bedrooms, baths and beds.\n",
    "custom_color = ['#132A13', '#4F772D', '#A7C957']         # Create custom color for chart.\n",
    "plt.figure(figsize= (7, 6))\n",
    "sns.barplot(x= avg_bedrooms_bath_bed.index,\n",
    "            y= avg_bedrooms_bath_bed.values,\n",
    "            palette= custom_color)\n",
    "\n",
    "# Customize chart to add labels and title.\n",
    "plt.title('Average Number of Bedrooms, Baths & Beds')\n",
    "plt.xlabel('Property Feature')\n",
    "plt.ylabel('Average Count')\n",
    "plt.xticks(rotation= 90)\n",
    "\n",
    "# Hide Y-axis values.\n",
    "plt.yticks([])\n",
    "\n",
    "# Show values on bars.\n",
    "for i, v in enumerate(avg_bedrooms_bath_bed):\n",
    "    plt.text(i, v + 0.05, f\"{v:.2f}\", ha= 'center', color= 'black', fontweight= 'bold')\n",
    "\n",
    "plt.show()"
   ]
  },
  {
   "cell_type": "code",
   "execution_count": 29,
   "metadata": {},
   "outputs": [
    {
     "data": {
      "image/png": "[encoded data removed]",
      "text/plain": [
       "<Figure size 700x600 with 1 Axes>"
      ]
     },
     "metadata": {},
     "output_type": "display_data"
    }
   ],
   "source": [
    "# Calculate the average price for each property type listed.\n",
    "avg_price_by_room = NY_Airbnb.groupby('room_type')['price'].mean().reset_index()\n",
    "\n",
    "# Create a chart that shows the average price for each property type listing.\n",
    "custom_color = ['#132A13', '#4F772D', '#A7C957', '#D3D3D3']         # Create custom color for chart.\n",
    "plt.figure(figsize= (7, 6))\n",
    "sns.barplot(data= avg_price_by_room,\n",
    "            x= 'room_type',\n",
    "            y= 'price',\n",
    "            palette= custom_color)\n",
    "\n",
    "# Customize chart to add labels and title.\n",
    "plt.title('Average Price by Room Type Listed')\n",
    "plt.xlabel('Room Type')\n",
    "plt.ylabel('Average Price ($)')\n",
    "plt.xticks(rotation= 90)\n",
    "\n",
    "# Hide Y-axis values.\n",
    "plt.yticks([])\n",
    "\n",
    "# Show values on bars.\n",
    "for i, v in enumerate(avg_price_by_room['price']):\n",
    "    plt.text(i, v + 5, f\"${v:.2f}\", ha= 'center', color= 'black', fontweight= 'bold')\n",
    "\n",
    "plt.show()"
   ]
  },
  {
   "cell_type": "markdown",
   "metadata": {},
   "source": [
    "Guest Engagement/Review"
   ]
  },
  {
   "cell_type": "code",
   "execution_count": 39,
   "metadata": {},
   "outputs": [
    {
     "data": {
      "image/png": "[encoded data removed]",
      "text/plain": [
       "<Figure size 1000x500 with 1 Axes>"
      ]
     },
     "metadata": {},
     "output_type": "display_data"
    }
   ],
   "source": [
    "# Find out the number of active hosts based on each year through their last review year.\n",
    "unique_host_by_LastReview_year = NY_Airbnb.groupby('last_review_year')['host_id'].nunique().reset_index()\n",
    "\n",
    "# Plot a chart that shows the number of active hosts by their last review year.\n",
    "plt.figure(figsize= (10, 5))\n",
    "plt.plot(unique_host_by_LastReview_year['last_review_year'],\n",
    "        unique_host_by_LastReview_year['host_id'],\n",
    "        marker= 'o',\n",
    "        linestyle= '-',\n",
    "        color= 'green')\n",
    "\n",
    "# Customize chart to add labels and title.\n",
    "plt.title('Number of Active Host Listings based on Year Trend')\n",
    "plt.xlabel('Last Review')\n",
    "##plt.ylabel('Number of Hosts')\n",
    "##plt.xticks(unique_host_by_LastReview_year['last_review_year'])         # This ensures all year is displayed at the X-axis.\n",
    "##plt.grid(True)                                                        # Adds grid lines to the line chart.\n",
    "\n",
    "# Hide Y-axis values.\n",
    "plt.yticks([])\n",
    "\n",
    "# Show values on points----Loop through data points and add values displayed as text above each point.\n",
    "for x, y in zip(unique_host_by_LastReview_year['last_review_year'], unique_host_by_LastReview_year['host_id']):\n",
    "    plt.text(x, y, str(y), ha= 'center', va= 'bottom', fontsize= 10, fontweight= 'bold', color= 'black')\n",
    "\n",
    "plt.show()"
   ]
  },
  {
   "cell_type": "markdown",
   "metadata": {},
   "source": [
    "Listing Trend"
   ]
  },
  {
   "cell_type": "code",
   "execution_count": 31,
   "metadata": {},
   "outputs": [
    {
     "data": {
      "image/png": "[encoded data removed]",
      "text/plain": [
       "<Figure size 800x600 with 1 Axes>"
      ]
     },
     "metadata": {},
     "output_type": "display_data"
    }
   ],
   "source": [
    "# Calculate the number of listings for each host status.\n",
    "number_of_listings_by_host_status = NY_Airbnb.groupby('host_listing_status')['number_of_host_listings'].count().reset_index()\n",
    "\n",
    "# Create a chart that shows the number of listings by host status\n",
    "custom_color = ['#132A13', '#4F772D', '#A7C957']         # Create custom color for chart.\n",
    "plt.figure(figsize= (8, 6))\n",
    "sns.barplot(data= number_of_listings_by_host_status,\n",
    "            x= 'host_listing_status',\n",
    "            y= 'number_of_host_listings',\n",
    "            palette= custom_color)\n",
    "\n",
    "# Customize chart to add labels and title.\n",
    "plt.title('Number of Listings by Host Status')\n",
    "plt.xlabel('Host Status')\n",
    "plt.ylabel('Listings')\n",
    "##plt.xticks(rotation= 90)\n",
    "\n",
    "# Hide Y-axis values.\n",
    "plt.yticks([])\n",
    "\n",
    "# Show values on bars.\n",
    "for index, row in number_of_listings_by_host_status.iterrows():\n",
    "    plt.text(index, row['number_of_host_listings'] + 2, str(row['number_of_host_listings']),\n",
    "              ha= 'center', va= 'bottom', fontsize= 10, fontweight= 'bold', color= 'black')\n",
    "\n",
    "plt.show()\n"
   ]
  },
  {
   "cell_type": "code",
   "execution_count": 32,
   "metadata": {},
   "outputs": [
    {
     "data": {
      "image/png": "[encoded data removed]",
      "text/plain": [
       "<Figure size 800x500 with 1 Axes>"
      ]
     },
     "metadata": {},
     "output_type": "display_data"
    }
   ],
   "source": [
    "# Calculate the average price based on host status.\n",
    "avg_price_by_host_status = NY_Airbnb.groupby('host_listing_status')['price'].mean().reset_index()\n",
    "\n",
    "# Create a chart that shows the average price by host status.\n",
    "custom_color = ['#132A13', '#4F772D', '#A7C957']         # Create custom color for chart.\n",
    "plt.figure(figsize= (8, 5))\n",
    "sns.barplot(data= avg_price_by_host_status,\n",
    "            x= 'host_listing_status',\n",
    "            y= 'price',\n",
    "            palette= custom_color)\n",
    "\n",
    "# Customize chart to add labels and title.\n",
    "plt.title('Avg Price by Host Status')\n",
    "plt.xlabel('Host Status')\n",
    "plt.ylabel('Price')\n",
    "##plt.xticks(rotation= 90)\n",
    "\n",
    "# Hide Y-axis values.\n",
    "plt.yticks([])\n",
    "\n",
    "# Show values on bars.\n",
    "for index, row in avg_price_by_host_status.iterrows():\n",
    "    plt.text(index, row['price'] + 2, f\"${row['price']:.2f}\",\n",
    "              ha= 'center', va= 'bottom', fontsize= 10, fontweight= 'bold', color= 'black')\n",
    "\n",
    "plt.show()"
   ]
  },
  {
   "cell_type": "markdown",
   "metadata": {},
   "source": [
    "Relationship Between Variables"
   ]
  },
  {
   "cell_type": "code",
   "execution_count": 33,
   "metadata": {},
   "outputs": [
    {
     "data": {
      "image/png": "[encoded data removed]",
      "text/plain": [
       "<Figure size 700x500 with 2 Axes>"
      ]
     },
     "metadata": {},
     "output_type": "display_data"
    }
   ],
   "source": [
    "# Observe the correlation between price & bedrooms, price & availability, and other numeric variables of the data.\n",
    "matrix_columns = NY_Airbnb[['price', 'bedrooms', 'baths', 'minimum_nights', 'beds', 'availability_365', 'rating']]\n",
    "plt.figure(figsize= (7,5))\n",
    "sns.heatmap(matrix_columns.corr(), annot= True)          # Create correlation heatmap.\n",
    "\n",
    "# Customize heatmap.\n",
    "plt.title('Correlation Matrix')\n",
    "\n",
    "plt.show()"
   ]
  }
 ],
 "metadata": {
  "kernelspec": {
   "display_name": "base",
   "language": "python",
   "name": "python3"
  },
  "language_info": {
   "codemirror_mode": {
    "name": "ipython",
    "version": 3
   },
   "file_extension": ".py",
   "mimetype": "text/x-python",
   "name": "python",
   "nbconvert_exporter": "python",
   "pygments_lexer": "ipython3",
   "version": "3.11.4"
  }
 },
 "nbformat": 4,
 "nbformat_minor": 2
}
